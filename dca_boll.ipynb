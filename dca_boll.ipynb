{
 "cells": [
  {
   "cell_type": "code",
   "execution_count": 9,
   "id": "5ed3cf7e-da00-4ae9-bdc3-4b6ad71a2bb8",
   "metadata": {
    "scrolled": true
   },
   "outputs": [],
   "source": [
    "import pandas as pd\n",
    "from backtesting import Backtest, Strategy\n",
    "import math\n",
    "from vnstock3 import Vnstock\n",
    "import talib as ta\n",
    "\n",
    "RSI_PERIOD = 14\n",
    "RSI_OVERSOLD = 30\n",
    "RSI_OVERBOUGHT = 70"
   ]
  },
  {
   "cell_type": "code",
   "execution_count": 6,
   "id": "1d69ba31-cc40-40c8-bf11-3b7ddaa40707",
   "metadata": {},
   "outputs": [],
   "source": [
    " def calculate_first_mondays(dates):\n",
    "        if not isinstance(dates, pd.DatetimeIndex):\n",
    "            dates = pd.DatetimeIndex(dates)\n",
    "        dates_series = pd.Series(dates, index=dates)\n",
    "        mondays = dates_series[dates_series.dt.dayofweek == 0]\n",
    "        first_mondays = mondays.groupby([mondays.dt.year, mondays.dt.month]).first()\n",
    "        return set(first_mondays)"
   ]
  },
  {
   "cell_type": "code",
   "execution_count": 8,
   "id": "c5b6f448-29db-4946-9760-ca3e77c4b279",
   "metadata": {},
   "outputs": [
    {
     "name": "stderr",
     "output_type": "stream",
     "text": [
      "2024-08-10 18:11:50,444 - vnstock3.common.data.data_explorer - WARNING - Thông tin niêm yết & giao dịch sẽ được truy xuất từ TCBS\n",
      "BokehDeprecationWarning: Passing lists of formats for DatetimeTickFormatter scales was deprecated in Bokeh 3.0. Configure a single string format for each scale\n",
      "/Users/mac/anaconda3/lib/python3.11/site-packages/backtesting/_plotting.py:250: UserWarning: DatetimeFormatter scales now only accept a single format. Using the first provided: '%d %b'\n",
      "  formatter=DatetimeTickFormatter(days=['%d %b', '%a %d'],\n",
      "BokehDeprecationWarning: Passing lists of formats for DatetimeTickFormatter scales was deprecated in Bokeh 3.0. Configure a single string format for each scale\n",
      "/Users/mac/anaconda3/lib/python3.11/site-packages/backtesting/_plotting.py:250: UserWarning: DatetimeFormatter scales now only accept a single format. Using the first provided: '%m/%Y'\n",
      "  formatter=DatetimeTickFormatter(days=['%d %b', '%a %d'],\n",
      "/Users/mac/anaconda3/lib/python3.11/site-packages/backtesting/_plotting.py:456: FutureWarning: 'M' is deprecated and will be removed in a future version, please use 'ME' instead.\n",
      "  .resample(resample_rule, label='left')\n",
      "/Users/mac/anaconda3/lib/python3.11/site-packages/backtesting/_plotting.py:659: UserWarning: found multiple competing values for 'toolbar.active_drag' property; using the latest value\n",
      "  fig = gridplot(\n",
      "/Users/mac/anaconda3/lib/python3.11/site-packages/backtesting/_plotting.py:659: UserWarning: found multiple competing values for 'toolbar.active_scroll' property; using the latest value\n",
      "  fig = gridplot(\n",
      "2024-08-10 18:11:52,075 - vnstock3.common.data.data_explorer - WARNING - Thông tin niêm yết & giao dịch sẽ được truy xuất từ TCBS\n"
     ]
    },
    {
     "name": "stdout",
     "output_type": "stream",
     "text": [
      "Results for VCB:\n",
      "Total investment: 2548.5693986009032\n",
      "Current Shares: 973\n",
      "Current Equity: 3380.0\n",
      "RoR: 32.62342402194462\n",
      "--------------------------------------------------\n"
     ]
    },
    {
     "name": "stderr",
     "output_type": "stream",
     "text": [
      "BokehDeprecationWarning: Passing lists of formats for DatetimeTickFormatter scales was deprecated in Bokeh 3.0. Configure a single string format for each scale\n",
      "/Users/mac/anaconda3/lib/python3.11/site-packages/backtesting/_plotting.py:250: UserWarning: DatetimeFormatter scales now only accept a single format. Using the first provided: '%d %b'\n",
      "  formatter=DatetimeTickFormatter(days=['%d %b', '%a %d'],\n",
      "BokehDeprecationWarning: Passing lists of formats for DatetimeTickFormatter scales was deprecated in Bokeh 3.0. Configure a single string format for each scale\n",
      "/Users/mac/anaconda3/lib/python3.11/site-packages/backtesting/_plotting.py:250: UserWarning: DatetimeFormatter scales now only accept a single format. Using the first provided: '%m/%Y'\n",
      "  formatter=DatetimeTickFormatter(days=['%d %b', '%a %d'],\n",
      "/Users/mac/anaconda3/lib/python3.11/site-packages/backtesting/_plotting.py:456: FutureWarning: 'M' is deprecated and will be removed in a future version, please use 'ME' instead.\n",
      "  .resample(resample_rule, label='left')\n",
      "/Users/mac/anaconda3/lib/python3.11/site-packages/backtesting/_plotting.py:659: UserWarning: found multiple competing values for 'toolbar.active_drag' property; using the latest value\n",
      "  fig = gridplot(\n",
      "/Users/mac/anaconda3/lib/python3.11/site-packages/backtesting/_plotting.py:659: UserWarning: found multiple competing values for 'toolbar.active_scroll' property; using the latest value\n",
      "  fig = gridplot(\n",
      "2024-08-10 18:11:57,207 - vnstock3.common.data.data_explorer - WARNING - Thông tin niêm yết & giao dịch sẽ được truy xuất từ TCBS\n"
     ]
    },
    {
     "name": "stdout",
     "output_type": "stream",
     "text": [
      "Results for VPB:\n",
      "Total investment: 2349.671506331387\n",
      "Current Shares: 4674\n",
      "Current Equity: 3485.564645426516\n",
      "RoR: 48.34263581246868\n",
      "--------------------------------------------------\n"
     ]
    },
    {
     "name": "stderr",
     "output_type": "stream",
     "text": [
      "BokehDeprecationWarning: Passing lists of formats for DatetimeTickFormatter scales was deprecated in Bokeh 3.0. Configure a single string format for each scale\n",
      "/Users/mac/anaconda3/lib/python3.11/site-packages/backtesting/_plotting.py:250: UserWarning: DatetimeFormatter scales now only accept a single format. Using the first provided: '%d %b'\n",
      "  formatter=DatetimeTickFormatter(days=['%d %b', '%a %d'],\n",
      "BokehDeprecationWarning: Passing lists of formats for DatetimeTickFormatter scales was deprecated in Bokeh 3.0. Configure a single string format for each scale\n",
      "/Users/mac/anaconda3/lib/python3.11/site-packages/backtesting/_plotting.py:250: UserWarning: DatetimeFormatter scales now only accept a single format. Using the first provided: '%m/%Y'\n",
      "  formatter=DatetimeTickFormatter(days=['%d %b', '%a %d'],\n",
      "/Users/mac/anaconda3/lib/python3.11/site-packages/backtesting/_plotting.py:456: FutureWarning: 'M' is deprecated and will be removed in a future version, please use 'ME' instead.\n",
      "  .resample(resample_rule, label='left')\n",
      "/Users/mac/anaconda3/lib/python3.11/site-packages/backtesting/_plotting.py:659: UserWarning: found multiple competing values for 'toolbar.active_drag' property; using the latest value\n",
      "  fig = gridplot(\n",
      "/Users/mac/anaconda3/lib/python3.11/site-packages/backtesting/_plotting.py:659: UserWarning: found multiple competing values for 'toolbar.active_scroll' property; using the latest value\n",
      "  fig = gridplot(\n",
      "2024-08-10 18:12:00,949 - vnstock3.common.data.data_explorer - WARNING - Thông tin niêm yết & giao dịch sẽ được truy xuất từ TCBS\n"
     ]
    },
    {
     "name": "stdout",
     "output_type": "stream",
     "text": [
      "Results for FPT:\n",
      "Total investment: 2348.4988569089387\n",
      "Current Shares: 1480\n",
      "Current Equity: 5059.68345323741\n",
      "RoR: 115.44330065788893\n",
      "--------------------------------------------------\n"
     ]
    },
    {
     "name": "stderr",
     "output_type": "stream",
     "text": [
      "BokehDeprecationWarning: Passing lists of formats for DatetimeTickFormatter scales was deprecated in Bokeh 3.0. Configure a single string format for each scale\n",
      "/Users/mac/anaconda3/lib/python3.11/site-packages/backtesting/_plotting.py:250: UserWarning: DatetimeFormatter scales now only accept a single format. Using the first provided: '%d %b'\n",
      "  formatter=DatetimeTickFormatter(days=['%d %b', '%a %d'],\n",
      "BokehDeprecationWarning: Passing lists of formats for DatetimeTickFormatter scales was deprecated in Bokeh 3.0. Configure a single string format for each scale\n",
      "/Users/mac/anaconda3/lib/python3.11/site-packages/backtesting/_plotting.py:250: UserWarning: DatetimeFormatter scales now only accept a single format. Using the first provided: '%m/%Y'\n",
      "  formatter=DatetimeTickFormatter(days=['%d %b', '%a %d'],\n",
      "/Users/mac/anaconda3/lib/python3.11/site-packages/backtesting/_plotting.py:456: FutureWarning: 'M' is deprecated and will be removed in a future version, please use 'ME' instead.\n",
      "  .resample(resample_rule, label='left')\n",
      "/Users/mac/anaconda3/lib/python3.11/site-packages/backtesting/_plotting.py:659: UserWarning: found multiple competing values for 'toolbar.active_drag' property; using the latest value\n",
      "  fig = gridplot(\n",
      "/Users/mac/anaconda3/lib/python3.11/site-packages/backtesting/_plotting.py:659: UserWarning: found multiple competing values for 'toolbar.active_scroll' property; using the latest value\n",
      "  fig = gridplot(\n"
     ]
    },
    {
     "name": "stdout",
     "output_type": "stream",
     "text": [
      "Results for REE:\n",
      "Total investment: 2898.650632457136\n",
      "Current Shares: 2043\n",
      "Current Equity: 4139.75210688592\n",
      "RoR: 42.816525059341956\n",
      "--------------------------------------------------\n"
     ]
    }
   ],
   "source": [
    "class DCA(Strategy):\n",
    "    average_monthly_income_vnd = 500  # Average monthly income in VND\n",
    "    investment_percentage = 0.10  # Percentage of income to invest\n",
    "    fund = 50  # Initialize the investment fund\n",
    "\n",
    "    def init(self):\n",
    "        close = self.data.Close\n",
    "        # Calculate RSI\n",
    "        self.rsi = self.I(ta.RSI, close, timeperiod=14)\n",
    "        # Calculate Bollinger Bands\n",
    "        self.boll_high = self.I(ta.BBANDS, close, timeperiod=15, nbdevup=2, nbdevdn=2)[0]\n",
    "        self.boll_low = self.I(ta.BBANDS, close, timeperiod=15, nbdevup=2, nbdevdn=2)[2]\n",
    "        self.first_mondays = calculate_first_mondays(self.data.index)\n",
    "    def next(self):\n",
    "        today = self.data.index[-1]\n",
    "        if today in self.first_mondays:\n",
    "            self.fund += self.average_monthly_income_vnd * self.investment_percentage\n",
    "\n",
    "        # Check for buy signal\n",
    "        if (self.data.Close[-1] <= self.boll_low[-1] and self.rsi[-1] <= 30):\n",
    "            share_price = self.data.Close[-1]\n",
    "            shares_to_buy = self.fund // share_price\n",
    "            if shares_to_buy > 0:\n",
    "                self.buy(size=shares_to_buy)\n",
    "                self.fund -= share_price * shares_to_buy\n",
    "                \n",
    "def run_backtest(stock_symbol, usd_vnd_data):\n",
    "    # Fetch stock data\n",
    "    stock_data = Vnstock().stock(symbol=stock_symbol).quote.history(start='2019-01-01', end='2024-01-04')\n",
    "    stock_data = stock_data.rename(columns={\"open\": \"Open\", \"high\": \"High\", \"low\": \"Low\", \"close\": \"Close\", \"volume\": \"Volume\"})\n",
    "    stock_data.set_index('time', inplace=True)\n",
    "    stock_data.index = pd.to_datetime(stock_data.index)\n",
    "\n",
    "    # Merge USD/VND data\n",
    "    stock_data.index = stock_data.index.normalize()\n",
    "    stock_data['usd/vnd'] = usd_vnd_data['Close'].reindex(stock_data.index) / 1000\n",
    "    stock_data['Close'] = stock_data['Close'] / stock_data['usd/vnd']\n",
    "    stock_data = stock_data.dropna()\n",
    "\n",
    "    # Run the backtest\n",
    "    bt = Backtest(\n",
    "        stock_data,\n",
    "        DCA,\n",
    "        trade_on_close=True,\n",
    "    )\n",
    "    stats = bt.run()\n",
    "    bt.plot(filename=f'{stock_symbol}')\n",
    "    \n",
    "    # Calculate investment details\n",
    "    trades = stats[\"_trades\"]\n",
    "    price_paid = trades[\"Size\"] * trades[\"EntryPrice\"]\n",
    "    total_invested = price_paid.sum()\n",
    "\n",
    "    current_shares = trades[\"Size\"].sum()\n",
    "    current_equity = current_shares * stock_data.Close.iloc[-1]\n",
    "\n",
    "    print(f\"Results for {stock_symbol}:\")\n",
    "    print(\"Total investment:\", total_invested)\n",
    "    print(\"Current Shares:\", current_shares)\n",
    "    print(\"Current Equity:\", current_equity)\n",
    "    print(\"RoR:\", ((current_equity - total_invested) / total_invested)*100)\n",
    "    print(\"-\" * 50)\n",
    "\n",
    "# Load USD/VND data\n",
    "usd_vnd_data = pd.read_csv('VND=XCommon.csv')\n",
    "usd_vnd_data['Date'] = pd.to_datetime(usd_vnd_data['Date'])\n",
    "usd_vnd_data.set_index('Date', inplace=True)\n",
    "\n",
    "# List of stock symbols\n",
    "stock_symbols = ['VCB', 'VPB', 'FPT', 'REE'] \n",
    "\n",
    "# Run backtest for each stock\n",
    "for symbol in stock_symbols:\n",
    "    run_backtest(symbol, usd_vnd_data)"
   ]
  }
 ],
 "metadata": {
  "kernelspec": {
   "display_name": "Python 3 (ipykernel)",
   "language": "python",
   "name": "python3"
  },
  "language_info": {
   "codemirror_mode": {
    "name": "ipython",
    "version": 3
   },
   "file_extension": ".py",
   "mimetype": "text/x-python",
   "name": "python",
   "nbconvert_exporter": "python",
   "pygments_lexer": "ipython3",
   "version": "3.11.9"
  }
 },
 "nbformat": 4,
 "nbformat_minor": 5
}
