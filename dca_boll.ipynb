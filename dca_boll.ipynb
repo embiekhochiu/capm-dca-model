{
 "cells": [
  {
   "cell_type": "code",
   "execution_count": 1,
   "id": "5ed3cf7e-da00-4ae9-bdc3-4b6ad71a2bb8",
   "metadata": {
    "scrolled": true
   },
   "outputs": [],
   "source": [
    "import pandas as pd\n",
    "from backtesting import Backtest, Strategy\n",
    "import math\n",
    "from vnstock3 import Vnstock\n",
    "import talib as ta\n",
    "\n",
    "RSI_PERIOD = 14\n",
    "RSI_OVERSOLD = 30\n",
    "RSI_OVERBOUGHT = 70"
   ]
  },
  {
   "cell_type": "code",
   "execution_count": 2,
   "id": "1d69ba31-cc40-40c8-bf11-3b7ddaa40707",
   "metadata": {},
   "outputs": [],
   "source": [
    " def calculate_first_mondays(dates):\n",
    "        if not isinstance(dates, pd.DatetimeIndex):\n",
    "            dates = pd.DatetimeIndex(dates)\n",
    "        dates_series = pd.Series(dates, index=dates)\n",
    "        mondays = dates_series[dates_series.dt.dayofweek == 0]\n",
    "        first_mondays = mondays.groupby([mondays.dt.year, mondays.dt.month]).first()\n",
    "        return set(first_mondays)"
   ]
  },
  {
   "cell_type": "code",
   "execution_count": 3,
   "id": "c5b6f448-29db-4946-9760-ca3e77c4b279",
   "metadata": {},
   "outputs": [
    {
     "name": "stderr",
     "output_type": "stream",
     "text": [
      "2024-08-14 23:34:03,928 - vnstock3.common.data.data_explorer - WARNING - Thông tin niêm yết & giao dịch sẽ được truy xuất từ TCBS\n"
     ]
    },
    {
     "name": "stdout",
     "output_type": "stream",
     "text": [
      "Buy executed at 2020-02-27 00:00:00 with 200.0 shares at price 2.3502581755593805, total price 470.0516351118761\n",
      "Buy executed at 2020-03-02 00:00:00 with 100.0 shares at price 2.2893173797021604, total price 228.93173797021603\n",
      "Buy executed at 2020-07-27 00:00:00 with 100.0 shares at price 2.1605177993527507, total price 216.05177993527508\n",
      "Buy executed at 2022-04-18 00:00:00 with 300.0 shares at price 2.8730512249443207, total price 861.9153674832962\n",
      "Buy executed at 2022-05-13 00:00:00 with 100.0 shares at price 2.6762209906477312, total price 267.6220990647731\n",
      "Buy executed at 2022-10-03 00:00:00 with 100.0 shares at price 2.505973590442255, total price 250.5973590442255\n"
     ]
    },
    {
     "name": "stderr",
     "output_type": "stream",
     "text": [
      "2024-08-14 23:34:05,111 - vnstock3.common.data.data_explorer - WARNING - Thông tin niêm yết & giao dịch sẽ được truy xuất từ TCBS\n"
     ]
    },
    {
     "name": "stdout",
     "output_type": "stream",
     "text": [
      "Results for VCB:\n",
      "Total investment: 2295.1699786096624\n",
      "Current Shares: 900\n",
      "Current Equity: 3126.4131551901337\n",
      "RoR: 36.217063848317274\n",
      "--------------------------------------------------\n",
      "Buy executed at 2019-05-06 00:00:00 with 900.0 shares at price 0.2666092387207925, total price 239.94831484871327\n",
      "Buy executed at 2019-11-21 00:00:00 with 1000.0 shares at price 0.28913689834963585, total price 289.1368983496358\n",
      "Buy executed at 2019-12-03 00:00:00 with 200.0 shares at price 0.27017710173654497, total price 54.03542034730899\n",
      "Buy executed at 2020-03-16 00:00:00 with 500.0 shares at price 0.30253404585416305, total price 151.2670229270815\n",
      "Buy executed at 2021-12-23 00:00:00 with 1200.0 shares at price 0.8516663036375518, total price 1021.9995643650622\n",
      "Buy executed at 2022-05-13 00:00:00 with 300.0 shares at price 0.7577069622445445, total price 227.31208867336335\n",
      "Buy executed at 2022-09-26 00:00:00 with 300.0 shares at price 0.7025316455696202, total price 210.75949367088606\n",
      "Buy executed at 2022-10-03 00:00:00 with 100.0 shares at price 0.6451477677635716, total price 64.51477677635717\n",
      "Buy executed at 2022-11-15 00:00:00 with 100.0 shares at price 0.5360824742268041, total price 53.608247422680414\n"
     ]
    },
    {
     "name": "stderr",
     "output_type": "stream",
     "text": [
      "2024-08-14 23:34:06,529 - vnstock3.common.data.data_explorer - WARNING - Thông tin niêm yết & giao dịch sẽ được truy xuất từ TCBS\n"
     ]
    },
    {
     "name": "stdout",
     "output_type": "stream",
     "text": [
      "Results for VPB:\n",
      "Total investment: 2312.5818273810887\n",
      "Current Shares: 4600\n",
      "Current Equity: 3430.3802672148\n",
      "RoR: 48.3355194873072\n",
      "--------------------------------------------------\n",
      "Buy executed at 2020-02-03 00:00:00 with 700.0 shares at price 0.9472866879475456, total price 663.1006815632819\n",
      "Buy executed at 2020-03-30 00:00:00 with 100.0 shares at price 0.7483592844907868, total price 74.83592844907868\n",
      "Buy executed at 2022-01-11 00:00:00 with 400.0 shares at price 2.3621943159286185, total price 944.8777263714474\n",
      "Buy executed at 2022-09-27 00:00:00 with 200.0 shares at price 2.490828589500316, total price 498.1657179000632\n"
     ]
    },
    {
     "name": "stderr",
     "output_type": "stream",
     "text": [
      "2024-08-14 23:34:07,753 - vnstock3.common.data.data_explorer - WARNING - Thông tin niêm yết & giao dịch sẽ được truy xuất từ TCBS\n"
     ]
    },
    {
     "name": "stdout",
     "output_type": "stream",
     "text": [
      "Results for FPT:\n",
      "Total investment: 2180.980054283871\n",
      "Current Shares: 1400\n",
      "Current Equity: 4786.187050359712\n",
      "RoR: 119.45120685348336\n",
      "--------------------------------------------------\n",
      "Buy executed at 2020-03-09 00:00:00 with 900.0 shares at price 0.8123599379417342, total price 731.1239441475608\n",
      "Buy executed at 2021-11-22 00:00:00 with 500.0 shares at price 1.7950302334819261, total price 897.5151167409631\n",
      "Buy executed at 2022-11-07 00:00:00 with 300.0 shares at price 2.019702452754322, total price 605.9107358262967\n",
      "Buy executed at 2023-04-26 00:00:00 with 100.0 shares at price 2.0321220125250288, total price 203.21220125250287\n",
      "Buy executed at 2023-08-18 00:00:00 with 100.0 shares at price 2.170649895178197, total price 217.0649895178197\n",
      "Buy executed at 2023-10-26 00:00:00 with 100.0 shares at price 1.95114006514658, total price 195.114006514658\n"
     ]
    },
    {
     "name": "stderr",
     "output_type": "stream",
     "text": [
      "2024-08-14 23:34:08,655 - vnstock3.common.data.data_explorer - WARNING - Thông tin niêm yết & giao dịch sẽ được truy xuất từ TCBS\n"
     ]
    },
    {
     "name": "stdout",
     "output_type": "stream",
     "text": [
      "Results for REE:\n",
      "Total investment: 2849.9409939998013\n",
      "Current Shares: 2000\n",
      "Current Equity: 4052.6207605344293\n",
      "RoR: 42.2001637601172\n",
      "--------------------------------------------------\n",
      "Buy executed at 2019-07-18 00:00:00 with 100.0 shares at price 2.6476745440811484, total price 264.7674544081149\n",
      "Buy executed at 2019-12-03 00:00:00 with 100.0 shares at price 2.238548713750162, total price 223.8548713750162\n",
      "Buy executed at 2020-07-24 00:00:00 with 200.0 shares at price 1.815358067299396, total price 363.07161345987925\n",
      "Buy executed at 2022-03-14 00:00:00 with 200.0 shares at price 4.921960389979452, total price 984.3920779958903\n",
      "Buy executed at 2022-10-03 00:00:00 with 100.0 shares at price 3.9404736952420873, total price 394.04736952420876\n",
      "Buy executed at 2023-04-25 00:00:00 with 100.0 shares at price 3.034817400187282, total price 303.4817400187282\n",
      "Buy executed at 2023-09-25 00:00:00 with 100.0 shares at price 2.8858784893267653, total price 288.58784893267654\n"
     ]
    },
    {
     "name": "stderr",
     "output_type": "stream",
     "text": [
      "2024-08-14 23:34:09,896 - vnstock3.common.data.data_explorer - WARNING - Thông tin niêm yết & giao dịch sẽ được truy xuất từ TCBS\n"
     ]
    },
    {
     "name": "stdout",
     "output_type": "stream",
     "text": [
      "Results for MSN:\n",
      "Total investment: 2822.2029757145137\n",
      "Current Shares: 900\n",
      "Current Equity: 2549.2291880781095\n",
      "RoR: -9.67236552386151\n",
      "--------------------------------------------------\n",
      "Buy executed at 2019-08-13 00:00:00 with 100.0 shares at price 3.421381479725945, total price 342.1381479725945\n",
      "Buy executed at 2020-02-03 00:00:00 with 100.0 shares at price 3.223190406349754, total price 322.3190406349754\n",
      "Buy executed at 2021-01-28 00:00:00 with 100.0 shares at price 3.5822965884953835, total price 358.22965884953834\n",
      "Buy executed at 2021-05-06 00:00:00 with 100.0 shares at price 3.341283607979185, total price 334.1283607979185\n",
      "Buy executed at 2022-01-25 00:00:00 with 100.0 shares at price 3.1448732083792725, total price 314.48732083792726\n",
      "Buy executed at 2022-05-12 00:00:00 with 100.0 shares at price 2.597830802603037, total price 259.7830802603037\n",
      "Buy executed at 2023-04-17 00:00:00 with 200.0 shares at price 2.9010238907849826, total price 580.2047781569966\n",
      "Buy executed at 2023-10-25 00:00:00 with 100.0 shares at price 2.753971486761711, total price 275.39714867617107\n",
      "Results for VNM:\n",
      "Total investment: 2786.687536186425\n",
      "Current Shares: 900\n",
      "Current Equity: 2520.369989722508\n",
      "RoR: -9.556778182184429\n",
      "--------------------------------------------------\n"
     ]
    }
   ],
   "source": [
    "class DCA(Strategy):\n",
    "    average_monthly_income_vnd = 500  # Average monthly income in VND\n",
    "    investment_percentage = 0.10  # Percentage of income to invest\n",
    "    fund = 50  # Initialize the investment fund\n",
    "\n",
    "    def init(self):\n",
    "        close = self.data.Close\n",
    "        # Calculate RSI\n",
    "        self.rsi = self.I(ta.RSI, close, timeperiod=14)\n",
    "        # Calculate Bollinger Bands\n",
    "        self.boll_high = self.I(ta.BBANDS, close, timeperiod=15, nbdevup=2, nbdevdn=2)[0]\n",
    "        self.boll_low = self.I(ta.BBANDS, close, timeperiod=15, nbdevup=2, nbdevdn=2)[2]\n",
    "        self.first_mondays = calculate_first_mondays(self.data.index)\n",
    "    def next(self):\n",
    "        today = self.data.index[-1]\n",
    "        if today in self.first_mondays:\n",
    "            self.fund += self.average_monthly_income_vnd * self.investment_percentage\n",
    "\n",
    "        # Check for buy signal\n",
    "        if (self.data.Close[-1] <= self.boll_low[-1] and self.rsi[-1] <= 30):\n",
    "            share_price = self.data.Close[-1]\n",
    "            shares_to_buy = self.fund // share_price\n",
    "            shares_to_buy = (shares_to_buy // 100) * 100\n",
    "            if shares_to_buy > 0:\n",
    "                self.buy(size=shares_to_buy)\n",
    "                self.fund -= share_price * shares_to_buy\n",
    "                print(f\"Buy executed at {self.data.index[-1]} with {shares_to_buy} shares at price {share_price}, total price {share_price * shares_to_buy}\")\n",
    "\n",
    "                \n",
    "def run_backtest(stock_symbol, usd_vnd_data):\n",
    "    # Fetch stock data\n",
    "    stock_data = Vnstock().stock(symbol=stock_symbol).quote.history(start='2019-01-01', end='2024-01-04')\n",
    "    stock_data = stock_data.rename(columns={\"open\": \"Open\", \"high\": \"High\", \"low\": \"Low\", \"close\": \"Close\", \"volume\": \"Volume\"})\n",
    "    stock_data.set_index('time', inplace=True)\n",
    "    stock_data.index = pd.to_datetime(stock_data.index)\n",
    "\n",
    "    # Merge USD/VND data\n",
    "    stock_data.index = stock_data.index.normalize()\n",
    "    stock_data['usd/vnd'] = usd_vnd_data['Close'].reindex(stock_data.index) / 1000\n",
    "    stock_data['Close'] = stock_data['Close'] / stock_data['usd/vnd']\n",
    "    stock_data = stock_data.dropna()\n",
    "\n",
    "    # Run the backtest\n",
    "    bt = Backtest(\n",
    "        stock_data,\n",
    "        DCA,\n",
    "        trade_on_close=True,\n",
    "    )\n",
    "    stats = bt.run()\n",
    "    # bt.plot(filename=f'{stock_symbol}')\n",
    "    \n",
    "    # Calculate investment details\n",
    "    trades = stats[\"_trades\"]\n",
    "    price_paid = trades[\"Size\"] * trades[\"EntryPrice\"]\n",
    "    total_invested = price_paid.sum()\n",
    "\n",
    "    current_shares = trades[\"Size\"].sum()\n",
    "    current_equity = current_shares * stock_data.Close.iloc[-1]\n",
    "\n",
    "    print(f\"Results for {stock_symbol}:\")\n",
    "    print(\"Total investment:\", total_invested)\n",
    "    print(\"Current Shares:\", current_shares)\n",
    "    print(\"Current Equity:\", current_equity)\n",
    "    print(\"RoR:\", ((current_equity - total_invested) / total_invested)*100)\n",
    "    print(\"-\" * 50)\n",
    "\n",
    "# Load USD/VND data\n",
    "usd_vnd_data = pd.read_csv('VND=XCommon.csv')\n",
    "usd_vnd_data['Date'] = pd.to_datetime(usd_vnd_data['Date'])\n",
    "usd_vnd_data.set_index('Date', inplace=True)\n",
    "\n",
    "# List of stock symbols\n",
    "stock_symbols = ['VCB', 'VPB', 'FPT', 'REE', \"MSN\", 'VNM']\n",
    "\n",
    "# Run backtest for each stock\n",
    "for symbol in stock_symbols:\n",
    "    run_backtest(symbol, usd_vnd_data)"
   ]
  }
 ],
 "metadata": {
  "kernelspec": {
   "display_name": "Python 3 (ipykernel)",
   "language": "python",
   "name": "python3"
  },
  "language_info": {
   "codemirror_mode": {
    "name": "ipython",
    "version": 3
   },
   "file_extension": ".py",
   "mimetype": "text/x-python",
   "name": "python",
   "nbconvert_exporter": "python",
   "pygments_lexer": "ipython3",
   "version": "3.11.9"
  }
 },
 "nbformat": 4,
 "nbformat_minor": 5
}
