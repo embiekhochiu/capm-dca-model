{
 "cells": [
  {
   "cell_type": "code",
   "execution_count": 30,
   "id": "5ed3cf7e-da00-4ae9-bdc3-4b6ad71a2bb8",
   "metadata": {
    "scrolled": true
   },
   "outputs": [],
   "source": [
    "import pandas as pd\n",
    "from backtesting import Backtest, Strategy\n",
    "import math\n",
    "from vnstock3 import Vnstock\n",
    "import talib as ta\n",
    "import seaborn as sns\n",
    "import matplotlib.pyplot as plt"
   ]
  },
  {
   "cell_type": "code",
   "execution_count": 2,
   "id": "1d69ba31-cc40-40c8-bf11-3b7ddaa40707",
   "metadata": {},
   "outputs": [],
   "source": [
    " def calculate_first_mondays(dates):\n",
    "        if not isinstance(dates, pd.DatetimeIndex):\n",
    "            dates = pd.DatetimeIndex(dates)\n",
    "        dates_series = pd.Series(dates, index=dates)\n",
    "        mondays = dates_series[dates_series.dt.dayofweek == 0]\n",
    "        first_mondays = mondays.groupby([mondays.dt.year, mondays.dt.month]).first()\n",
    "        return set(first_mondays)"
   ]
  },
  {
   "cell_type": "code",
   "execution_count": null,
   "id": "b8616d32-cf44-46d1-bfcb-44b470f5dfd6",
   "metadata": {},
   "outputs": [
    {
     "name": "stderr",
     "output_type": "stream",
     "text": [
      "2024-08-19 23:18:35,326 - vnstock3.common.data.data_explorer - WARNING - Thông tin niêm yết & giao dịch sẽ được truy xuất từ TCBS\n",
      "2024-08-19 23:18:36,037 - vnstock3.common.data.data_explorer - WARNING - Thông tin niêm yết & giao dịch sẽ được truy xuất từ TCBS\n"
     ]
    },
    {
     "name": "stdout",
     "output_type": "stream",
     "text": [
      "Results for VCB:\n",
      "Total investment: 2641.3100579378106\n",
      "Current Shares: 1000\n",
      "Current Equity: 3473.792394655704\n",
      "RoR: 31.517781648393434\n",
      "--------------------------------------------------\n"
     ]
    },
    {
     "name": "stderr",
     "output_type": "stream",
     "text": [
      "2024-08-19 23:18:36,972 - vnstock3.common.data.data_explorer - WARNING - Thông tin niêm yết & giao dịch sẽ được truy xuất từ TCBS\n"
     ]
    },
    {
     "name": "stdout",
     "output_type": "stream",
     "text": [
      "Results for VPB:\n",
      "Total investment: 2423.2013278104787\n",
      "Current Shares: 4800\n",
      "Current Equity: 3579.527235354574\n",
      "RoR: 47.71893669226863\n",
      "--------------------------------------------------\n"
     ]
    },
    {
     "name": "stderr",
     "output_type": "stream",
     "text": [
      "2024-08-19 23:18:37,802 - vnstock3.common.data.data_explorer - WARNING - Thông tin niêm yết & giao dịch sẽ được truy xuất từ TCBS\n"
     ]
    },
    {
     "name": "stdout",
     "output_type": "stream",
     "text": [
      "Results for FPT:\n",
      "Total investment: 2386.382232289081\n",
      "Current Shares: 1500\n",
      "Current Equity: 5128.057553956834\n",
      "RoR: 114.88835629813863\n",
      "--------------------------------------------------\n"
     ]
    }
   ],
   "source": [
    "#theo tuần\n",
    "class DCA(Strategy):\n",
    "    average_monthly_income_vnd = 500  # Average monthly income in VND\n",
    "    investment_percentage = 0.10  # Percentage of income to invest\n",
    "    fund = 50  # Initialize the investment fund\n",
    "\n",
    "    def init(self):\n",
    "        close = self.data.Close\n",
    "        self.rsi = self.I(ta.RSI, close, timeperiod=14)\n",
    "        self.boll_high, _, self.boll_low = self.I(ta.BBANDS, close, timeperiod=15, nbdevup=2, nbdevdn=2)\n",
    "        self.day_of_week = self.I(\n",
    "                            lambda x: x,\n",
    "                            self.data.Close.s.index.dayofweek,\n",
    "                            plot = False,\n",
    "                            )\n",
    "\n",
    "    def next(self):\n",
    "        today = self.data.index[-1]\n",
    "        \n",
    "        if self.day_of_week[-1] == 1:\n",
    "            self.fund += self.average_monthly_income_vnd * self.investment_percentage / 4\n",
    "        \n",
    "        # Check for buy signal based on Bollinger Bands and RSI\n",
    "        if (self.data.Close[-1] <= self.boll_low[-1] and self.rsi[-1] <= 30):\n",
    "            share_price = self.data.Close[-1]\n",
    "            shares_to_buy = self.fund // share_price\n",
    "            shares_to_buy = (shares_to_buy // 100) * 100  # Round down to nearest 100 shares\n",
    "            if shares_to_buy > 0:\n",
    "                self.buy(size=shares_to_buy)\n",
    "                self.fund -= share_price * shares_to_buy\n",
    "                \n",
    "def run_backtest(stock_symbol, usd_vnd_data):\n",
    "    # Fetch stock data\n",
    "    stock_data = Vnstock().stock(symbol=stock_symbol).quote.history(start='2019-01-01', end='2024-01-04')\n",
    "    stock_data = stock_data.rename(columns={\"open\": \"Open\", \"high\": \"High\", \"low\": \"Low\", \"close\": \"Close\", \"volume\": \"Volume\"})\n",
    "    stock_data.set_index('time', inplace=True)\n",
    "    stock_data.index = pd.to_datetime(stock_data.index)\n",
    "\n",
    "    # Merge USD/VND data\n",
    "    stock_data.index = stock_data.index.normalize()\n",
    "    stock_data['usd/vnd'] = usd_vnd_data['Close'].reindex(stock_data.index) / 1000\n",
    "    stock_data['Close'] = stock_data['Close'] / stock_data['usd/vnd']\n",
    "    stock_data = stock_data.dropna()\n",
    "\n",
    "    # Run the backtest\n",
    "    bt = Backtest(\n",
    "        stock_data,\n",
    "        DCA,\n",
    "        trade_on_close=True,\n",
    "    )\n",
    "    stats = bt.run()\n",
    "    #bt.plot(filename=f'{stock_symbol}')\n",
    "    \n",
    "    # Calculate investment details\n",
    "    trades = stats[\"_trades\"]\n",
    "    price_paid = trades[\"Size\"] * trades[\"EntryPrice\"]\n",
    "    total_invested = price_paid.sum()\n",
    "\n",
    "    current_shares = trades[\"Size\"].sum()\n",
    "    current_equity = current_shares * stock_data.Close.iloc[-1]\n",
    "\n",
    "    print(f\"Results for {stock_symbol}:\")\n",
    "    print(\"Total investment:\", total_invested)\n",
    "    print(\"Current Shares:\", current_shares)\n",
    "    print(\"Current Equity:\", current_equity)\n",
    "    print(\"RoR:\", ((current_equity - total_invested) / total_invested)*100)\n",
    "    print(\"-\" * 50)\n",
    "\n",
    "# Load USD/VND data\n",
    "usd_vnd_data = pd.read_csv('VND=XCommon.csv')\n",
    "usd_vnd_data['Date'] = pd.to_datetime(usd_vnd_data['Date'])\n",
    "usd_vnd_data.set_index('Date', inplace=True)\n",
    "\n",
    "# List of stock symbols\n",
    "stock_symbols = ['VCB', 'VPB', 'FPT', 'REE', \"MSN\", 'VNM']\n",
    "\n",
    "# Run backtest for each stock\n",
    "for symbol in stock_symbols:\n",
    "    run_backtest(symbol, usd_vnd_data)"
   ]
  }
 ],
 "metadata": {
  "kernelspec": {
   "display_name": "Python 3 (ipykernel)",
   "language": "python",
   "name": "python3"
  },
  "language_info": {
   "codemirror_mode": {
    "name": "ipython",
    "version": 3
   },
   "file_extension": ".py",
   "mimetype": "text/x-python",
   "name": "python",
   "nbconvert_exporter": "python",
   "pygments_lexer": "ipython3",
   "version": "3.11.9"
  }
 },
 "nbformat": 4,
 "nbformat_minor": 5
}
