{
 "cells": [
  {
   "cell_type": "code",
   "execution_count": 32,
   "metadata": {},
   "outputs": [],
   "source": [
    "import pandas as pd\n",
    "from backtesting import Backtest, Strategy\n",
    "import math\n",
    "from vnstock3 import Vnstock"
   ]
  },
  {
   "cell_type": "markdown",
   "metadata": {},
   "source": [
    "PHẦN NÀY ĐỂ TEST"
   ]
  },
  {
   "cell_type": "code",
   "execution_count": 33,
   "metadata": {},
   "outputs": [],
   "source": [
    "class DCA(Strategy):\n",
    "\n",
    "    amount_to_invest = 10\n",
    "\n",
    "    def init(self):\n",
    "\n",
    "        self.day_of_week = self.I(\n",
    "                            lambda x: x,\n",
    "                            self.data.Close.s.index.dayofweek,\n",
    "                            plot = False,\n",
    "                            )\n",
    "\n",
    "    def next(self):\n",
    "\n",
    "        if self.day_of_week[-1] == 1:\n",
    "            self.buy( size = math.floor(self.amount_to_invest / self.data.Close[-1]))\n",
    "            # try:\n",
    "            #     if self.data.Close[-1]/self.data.Close[-30] < 0.95:\n",
    "            #         self.buy(size = math.floor(self.amount_to_invest / self.data.Close[-1]))\n",
    "            # except:\n",
    "            #     pass\n"
   ]
  },
  {
   "cell_type": "code",
   "execution_count": 34,
   "metadata": {},
   "outputs": [
    {
     "name": "stderr",
     "output_type": "stream",
     "text": [
      "2024-08-19 13:15:03,386 - vnstock3.common.data.data_explorer - WARNING - Thông tin niêm yết & giao dịch sẽ được truy xuất từ TCBS\n"
     ]
    },
    {
     "data": {
      "text/html": [
       "<div>\n",
       "<style scoped>\n",
       "    .dataframe tbody tr th:only-of-type {\n",
       "        vertical-align: middle;\n",
       "    }\n",
       "\n",
       "    .dataframe tbody tr th {\n",
       "        vertical-align: top;\n",
       "    }\n",
       "\n",
       "    .dataframe thead th {\n",
       "        text-align: right;\n",
       "    }\n",
       "</style>\n",
       "<table border=\"1\" class=\"dataframe\">\n",
       "  <thead>\n",
       "    <tr style=\"text-align: right;\">\n",
       "      <th></th>\n",
       "      <th>Open</th>\n",
       "      <th>High</th>\n",
       "      <th>Low</th>\n",
       "      <th>Close</th>\n",
       "      <th>Volume</th>\n",
       "    </tr>\n",
       "    <tr>\n",
       "      <th>time</th>\n",
       "      <th></th>\n",
       "      <th></th>\n",
       "      <th></th>\n",
       "      <th></th>\n",
       "      <th></th>\n",
       "    </tr>\n",
       "  </thead>\n",
       "  <tbody>\n",
       "    <tr>\n",
       "      <th>2019-01-02</th>\n",
       "      <td>15.58</td>\n",
       "      <td>15.71</td>\n",
       "      <td>15.33</td>\n",
       "      <td>15.35</td>\n",
       "      <td>459120</td>\n",
       "    </tr>\n",
       "    <tr>\n",
       "      <th>2019-01-03</th>\n",
       "      <td>15.45</td>\n",
       "      <td>15.45</td>\n",
       "      <td>15.17</td>\n",
       "      <td>15.20</td>\n",
       "      <td>716600</td>\n",
       "    </tr>\n",
       "    <tr>\n",
       "      <th>2019-01-04</th>\n",
       "      <td>15.13</td>\n",
       "      <td>15.45</td>\n",
       "      <td>15.09</td>\n",
       "      <td>15.32</td>\n",
       "      <td>318570</td>\n",
       "    </tr>\n",
       "    <tr>\n",
       "      <th>2019-01-07</th>\n",
       "      <td>15.58</td>\n",
       "      <td>15.69</td>\n",
       "      <td>15.50</td>\n",
       "      <td>15.58</td>\n",
       "      <td>408470</td>\n",
       "    </tr>\n",
       "    <tr>\n",
       "      <th>2019-01-08</th>\n",
       "      <td>15.58</td>\n",
       "      <td>15.65</td>\n",
       "      <td>15.54</td>\n",
       "      <td>15.65</td>\n",
       "      <td>295660</td>\n",
       "    </tr>\n",
       "    <tr>\n",
       "      <th>...</th>\n",
       "      <td>...</td>\n",
       "      <td>...</td>\n",
       "      <td>...</td>\n",
       "      <td>...</td>\n",
       "      <td>...</td>\n",
       "    </tr>\n",
       "    <tr>\n",
       "      <th>2023-12-27</th>\n",
       "      <td>84.11</td>\n",
       "      <td>84.46</td>\n",
       "      <td>83.68</td>\n",
       "      <td>83.68</td>\n",
       "      <td>1359748</td>\n",
       "    </tr>\n",
       "    <tr>\n",
       "      <th>2023-12-28</th>\n",
       "      <td>83.77</td>\n",
       "      <td>83.77</td>\n",
       "      <td>83.16</td>\n",
       "      <td>83.42</td>\n",
       "      <td>1199164</td>\n",
       "    </tr>\n",
       "    <tr>\n",
       "      <th>2023-12-29</th>\n",
       "      <td>83.42</td>\n",
       "      <td>83.77</td>\n",
       "      <td>82.99</td>\n",
       "      <td>82.99</td>\n",
       "      <td>1869204</td>\n",
       "    </tr>\n",
       "    <tr>\n",
       "      <th>2024-01-02</th>\n",
       "      <td>83.68</td>\n",
       "      <td>83.68</td>\n",
       "      <td>82.65</td>\n",
       "      <td>82.82</td>\n",
       "      <td>1717109</td>\n",
       "    </tr>\n",
       "    <tr>\n",
       "      <th>2024-01-03</th>\n",
       "      <td>82.56</td>\n",
       "      <td>83.34</td>\n",
       "      <td>82.39</td>\n",
       "      <td>83.16</td>\n",
       "      <td>1439581</td>\n",
       "    </tr>\n",
       "  </tbody>\n",
       "</table>\n",
       "<p>1252 rows × 5 columns</p>\n",
       "</div>"
      ],
      "text/plain": [
       "             Open   High    Low  Close   Volume\n",
       "time                                           \n",
       "2019-01-02  15.58  15.71  15.33  15.35   459120\n",
       "2019-01-03  15.45  15.45  15.17  15.20   716600\n",
       "2019-01-04  15.13  15.45  15.09  15.32   318570\n",
       "2019-01-07  15.58  15.69  15.50  15.58   408470\n",
       "2019-01-08  15.58  15.65  15.54  15.65   295660\n",
       "...           ...    ...    ...    ...      ...\n",
       "2023-12-27  84.11  84.46  83.68  83.68  1359748\n",
       "2023-12-28  83.77  83.77  83.16  83.42  1199164\n",
       "2023-12-29  83.42  83.77  82.99  82.99  1869204\n",
       "2024-01-02  83.68  83.68  82.65  82.82  1717109\n",
       "2024-01-03  82.56  83.34  82.39  83.16  1439581\n",
       "\n",
       "[1252 rows x 5 columns]"
      ]
     },
     "execution_count": 34,
     "metadata": {},
     "output_type": "execute_result"
    }
   ],
   "source": [
    "kdc = Vnstock().stock(symbol='FPT').quote.history(start='2019-01-01', end='2024-01-04')\n",
    "kdc = kdc.rename(columns={\"open\": \"Open\", \"high\": \"High\", \"low\": \"Low\", \"close\": \"Close\", \"volume\": \"Volume\"})\n",
    "# Set 'time' as index and convert to DatetimeIndex\n",
    "kdc.set_index('time', inplace=True)\n",
    "kdc.index = pd.to_datetime(kdc.index)\n",
    "kdc"
   ]
  },
  {
   "cell_type": "code",
   "execution_count": 35,
   "metadata": {},
   "outputs": [
    {
     "data": {
      "text/html": [
       "<div>\n",
       "<style scoped>\n",
       "    .dataframe tbody tr th:only-of-type {\n",
       "        vertical-align: middle;\n",
       "    }\n",
       "\n",
       "    .dataframe tbody tr th {\n",
       "        vertical-align: top;\n",
       "    }\n",
       "\n",
       "    .dataframe thead th {\n",
       "        text-align: right;\n",
       "    }\n",
       "</style>\n",
       "<table border=\"1\" class=\"dataframe\">\n",
       "  <thead>\n",
       "    <tr style=\"text-align: right;\">\n",
       "      <th></th>\n",
       "      <th>Open</th>\n",
       "      <th>High</th>\n",
       "      <th>Low</th>\n",
       "      <th>Close</th>\n",
       "      <th>Adj Close</th>\n",
       "      <th>Volume</th>\n",
       "    </tr>\n",
       "    <tr>\n",
       "      <th>Date</th>\n",
       "      <th></th>\n",
       "      <th></th>\n",
       "      <th></th>\n",
       "      <th></th>\n",
       "      <th></th>\n",
       "      <th></th>\n",
       "    </tr>\n",
       "  </thead>\n",
       "  <tbody>\n",
       "    <tr>\n",
       "      <th>2019-01-02</th>\n",
       "      <td>23172.699219</td>\n",
       "      <td>23194.0</td>\n",
       "      <td>23158.500000</td>\n",
       "      <td>23194.0</td>\n",
       "      <td>23194.0</td>\n",
       "      <td>0.0</td>\n",
       "    </tr>\n",
       "    <tr>\n",
       "      <th>2019-01-03</th>\n",
       "      <td>23194.000000</td>\n",
       "      <td>23194.0</td>\n",
       "      <td>23159.500000</td>\n",
       "      <td>23194.0</td>\n",
       "      <td>23194.0</td>\n",
       "      <td>0.0</td>\n",
       "    </tr>\n",
       "    <tr>\n",
       "      <th>2019-01-04</th>\n",
       "      <td>23194.000000</td>\n",
       "      <td>23194.0</td>\n",
       "      <td>23160.500000</td>\n",
       "      <td>23194.0</td>\n",
       "      <td>23194.0</td>\n",
       "      <td>0.0</td>\n",
       "    </tr>\n",
       "    <tr>\n",
       "      <th>2019-01-07</th>\n",
       "      <td>22854.099609</td>\n",
       "      <td>23194.0</td>\n",
       "      <td>22831.699219</td>\n",
       "      <td>23194.0</td>\n",
       "      <td>23194.0</td>\n",
       "      <td>0.0</td>\n",
       "    </tr>\n",
       "    <tr>\n",
       "      <th>2019-01-08</th>\n",
       "      <td>22795.000000</td>\n",
       "      <td>23194.0</td>\n",
       "      <td>22795.000000</td>\n",
       "      <td>23194.0</td>\n",
       "      <td>23194.0</td>\n",
       "      <td>0.0</td>\n",
       "    </tr>\n",
       "    <tr>\n",
       "      <th>...</th>\n",
       "      <td>...</td>\n",
       "      <td>...</td>\n",
       "      <td>...</td>\n",
       "      <td>...</td>\n",
       "      <td>...</td>\n",
       "      <td>...</td>\n",
       "    </tr>\n",
       "    <tr>\n",
       "      <th>2023-12-27</th>\n",
       "      <td>24325.000000</td>\n",
       "      <td>24380.0</td>\n",
       "      <td>24300.000000</td>\n",
       "      <td>24325.0</td>\n",
       "      <td>24325.0</td>\n",
       "      <td>0.0</td>\n",
       "    </tr>\n",
       "    <tr>\n",
       "      <th>2023-12-28</th>\n",
       "      <td>24345.000000</td>\n",
       "      <td>24325.0</td>\n",
       "      <td>24235.000000</td>\n",
       "      <td>24345.0</td>\n",
       "      <td>24345.0</td>\n",
       "      <td>0.0</td>\n",
       "    </tr>\n",
       "    <tr>\n",
       "      <th>2023-12-29</th>\n",
       "      <td>24235.000000</td>\n",
       "      <td>24265.0</td>\n",
       "      <td>24230.000000</td>\n",
       "      <td>24235.0</td>\n",
       "      <td>24235.0</td>\n",
       "      <td>0.0</td>\n",
       "    </tr>\n",
       "    <tr>\n",
       "      <th>2024-01-02</th>\n",
       "      <td>24260.000000</td>\n",
       "      <td>24330.0</td>\n",
       "      <td>24215.000000</td>\n",
       "      <td>24260.0</td>\n",
       "      <td>24260.0</td>\n",
       "      <td>0.0</td>\n",
       "    </tr>\n",
       "    <tr>\n",
       "      <th>2024-01-03</th>\n",
       "      <td>24325.000000</td>\n",
       "      <td>24375.0</td>\n",
       "      <td>24325.000000</td>\n",
       "      <td>24325.0</td>\n",
       "      <td>24325.0</td>\n",
       "      <td>0.0</td>\n",
       "    </tr>\n",
       "  </tbody>\n",
       "</table>\n",
       "<p>1252 rows × 6 columns</p>\n",
       "</div>"
      ],
      "text/plain": [
       "                    Open     High           Low    Close  Adj Close  Volume\n",
       "Date                                                                       \n",
       "2019-01-02  23172.699219  23194.0  23158.500000  23194.0    23194.0     0.0\n",
       "2019-01-03  23194.000000  23194.0  23159.500000  23194.0    23194.0     0.0\n",
       "2019-01-04  23194.000000  23194.0  23160.500000  23194.0    23194.0     0.0\n",
       "2019-01-07  22854.099609  23194.0  22831.699219  23194.0    23194.0     0.0\n",
       "2019-01-08  22795.000000  23194.0  22795.000000  23194.0    23194.0     0.0\n",
       "...                  ...      ...           ...      ...        ...     ...\n",
       "2023-12-27  24325.000000  24380.0  24300.000000  24325.0    24325.0     0.0\n",
       "2023-12-28  24345.000000  24325.0  24235.000000  24345.0    24345.0     0.0\n",
       "2023-12-29  24235.000000  24265.0  24230.000000  24235.0    24235.0     0.0\n",
       "2024-01-02  24260.000000  24330.0  24215.000000  24260.0    24260.0     0.0\n",
       "2024-01-03  24325.000000  24375.0  24325.000000  24325.0    24325.0     0.0\n",
       "\n",
       "[1252 rows x 6 columns]"
      ]
     },
     "execution_count": 35,
     "metadata": {},
     "output_type": "execute_result"
    }
   ],
   "source": [
    "usd_vnd_data = pd.read_csv('D:/datcom lab/BACKTESTING LIBRARY LEARNING/VND=XCommon.csv')\n",
    "usd_vnd_data['Date'] = pd.to_datetime(usd_vnd_data['Date'])\n",
    "usd_vnd_data.set_index('Date', inplace=True)\n",
    "usd_vnd_data"
   ]
  },
  {
   "cell_type": "code",
   "execution_count": 36,
   "metadata": {},
   "outputs": [],
   "source": [
    "kdc['usd/vnd'] = usd_vnd_data['Close']/1000\n",
    "kdc['Close'] = kdc['Close'] /kdc['usd/vnd']\n"
   ]
  },
  {
   "cell_type": "code",
   "execution_count": 37,
   "metadata": {},
   "outputs": [],
   "source": [
    "kdc = kdc.dropna()"
   ]
  },
  {
   "cell_type": "code",
   "execution_count": 38,
   "metadata": {},
   "outputs": [
    {
     "name": "stdout",
     "output_type": "stream",
     "text": [
      "Start                     2019-01-02 00:00:00\n",
      "End                       2024-01-03 00:00:00\n",
      "Duration                   1827 days 00:00:00\n",
      "Exposure Time [%]                    99.60032\n",
      "Equity Final [$]                 13074.193682\n",
      "Equity Peak [$]                  13284.836125\n",
      "Return [%]                          30.741937\n",
      "Buy & Hold Return [%]              416.569672\n",
      "Return (Ann.) [%]                    5.548116\n",
      "Volatility (Ann.) [%]                6.451963\n",
      "Sharpe Ratio                         0.859911\n",
      "Sortino Ratio                        1.340884\n",
      "Calmar Ratio                         0.465903\n",
      "Max. Drawdown [%]                  -11.908316\n",
      "Avg. Drawdown [%]                   -0.742391\n",
      "Max. Drawdown Duration      468 days 00:00:00\n",
      "Avg. Drawdown Duration       26 days 00:00:00\n",
      "# Trades                                  253\n",
      "Win Rate [%]                        97.628458\n",
      "Best Trade [%]                     405.947834\n",
      "Worst Trade [%]                     -3.771879\n",
      "Avg. Trade [%]                     101.891648\n",
      "Max. Trade Duration        1820 days 00:00:00\n",
      "Avg. Trade Duration         908 days 00:00:00\n",
      "Profit Factor                     3257.457337\n",
      "Expectancy [%]                     129.378267\n",
      "SQN                                 17.018555\n",
      "_strategy                                 DCA\n",
      "_equity_curve                             ...\n",
      "_trades                        Size  Entry...\n",
      "dtype: object\n"
     ]
    }
   ],
   "source": [
    "bt = Backtest(\n",
    "        kdc,\n",
    "        DCA,\n",
    "        trade_on_close = True,\n",
    "        )\n",
    "stats = bt.run()\n",
    "print(stats)\n"
   ]
  },
  {
   "cell_type": "code",
   "execution_count": 39,
   "metadata": {},
   "outputs": [
    {
     "name": "stdout",
     "output_type": "stream",
     "text": [
      "Total investment: 2282.1369036062315\n",
      "Current Shares: 1569\n",
      "current Equity: 5363.948201438849\n",
      "Return: 2.3504059694940915\n"
     ]
    }
   ],
   "source": [
    "trades = stats[\"_trades\"]\n",
    "price_paid = trades[\"Size\"] * trades[\"EntryPrice\"]\n",
    "total_invested = price_paid.sum()\n",
    "\n",
    "current_shares = trades[\"Size\"].sum()\n",
    "current_equity = current_shares * kdc.Close.iloc[-1]\n",
    "\n",
    "print(\"Total investment:\",total_invested)\n",
    "print(\"Current Shares:\",current_shares )\n",
    "print(\"current Equity:\", current_equity)\n",
    "\n",
    "print(\"Return:\", current_equity / total_invested)\n"
   ]
  },
  {
   "cell_type": "markdown",
   "metadata": {},
   "source": [
    "PHẦN CODE CHÍNH BÊN DƯỚI"
   ]
  },
  {
   "cell_type": "markdown",
   "metadata": {},
   "source": [
    "LÔ LẺ VÀ THEO TUẦN"
   ]
  },
  {
   "cell_type": "code",
   "execution_count": 51,
   "metadata": {},
   "outputs": [
    {
     "name": "stderr",
     "output_type": "stream",
     "text": [
      "2024-08-19 13:32:40,838 - vnstock3.common.data.data_explorer - WARNING - Thông tin niêm yết & giao dịch sẽ được truy xuất từ TCBS\n"
     ]
    },
    {
     "name": "stderr",
     "output_type": "stream",
     "text": [
      "2024-08-19 13:32:41,830 - vnstock3.common.data.data_explorer - WARNING - Thông tin niêm yết & giao dịch sẽ được truy xuất từ TCBS\n"
     ]
    },
    {
     "name": "stdout",
     "output_type": "stream",
     "text": [
      "Results for VNM:\n",
      "Total investment: 2797.630415723753\n",
      "Current Shares: 851\n",
      "Current Equity: 2383.149845837616\n",
      "RoR: -14.815415487213665\n",
      "--------------------------------------------------\n"
     ]
    },
    {
     "name": "stderr",
     "output_type": "stream",
     "text": [
      "2024-08-19 13:32:42,766 - vnstock3.common.data.data_explorer - WARNING - Thông tin niêm yết & giao dịch sẽ được truy xuất từ TCBS\n"
     ]
    },
    {
     "name": "stdout",
     "output_type": "stream",
     "text": [
      "Results for DPM:\n",
      "Total investment: 3041.4668333134273\n",
      "Current Shares: 4426\n",
      "Current Equity: 6177.294964028778\n",
      "RoR: 103.10249305921657\n",
      "--------------------------------------------------\n"
     ]
    },
    {
     "name": "stderr",
     "output_type": "stream",
     "text": [
      "2024-08-19 13:32:43,745 - vnstock3.common.data.data_explorer - WARNING - Thông tin niêm yết & giao dịch sẽ được truy xuất từ TCBS\n"
     ]
    },
    {
     "name": "stdout",
     "output_type": "stream",
     "text": [
      "Results for MBB:\n",
      "Total investment: 3082.2922545303863\n",
      "Current Shares: 5817\n",
      "Current Equity: 4481.421582733813\n",
      "RoR: 45.39249404877073\n",
      "--------------------------------------------------\n"
     ]
    },
    {
     "name": "stderr",
     "output_type": "stream",
     "text": [
      "2024-08-19 13:32:44,738 - vnstock3.common.data.data_explorer - WARNING - Thông tin niêm yết & giao dịch sẽ được truy xuất từ TCBS\n"
     ]
    },
    {
     "name": "stdout",
     "output_type": "stream",
     "text": [
      "Results for MWG:\n",
      "Total investment: 2929.9884167160667\n",
      "Current Shares: 1720\n",
      "Current Equity: 3030.5940390544706\n",
      "RoR: 3.4336525620522003\n",
      "--------------------------------------------------\n"
     ]
    },
    {
     "name": "stderr",
     "output_type": "stream",
     "text": [
      "2024-08-19 13:32:46,714 - vnstock3.common.data.data_explorer - WARNING - Thông tin niêm yết & giao dịch sẽ được truy xuất từ TCBS\n"
     ]
    },
    {
     "name": "stdout",
     "output_type": "stream",
     "text": [
      "Results for SSI:\n",
      "Total investment: 3057.850949828696\n",
      "Current Shares: 4728\n",
      "Current Equity: 6404.423432682426\n",
      "RoR: 109.44197535335098\n",
      "--------------------------------------------------\n",
      "Results for VRE:\n",
      "Total investment: 3018.6558711504426\n",
      "Current Shares: 2419\n",
      "Current Equity: 2312.0966084275437\n",
      "RoR: -23.406419707378618\n",
      "--------------------------------------------------\n"
     ]
    }
   ],
   "source": [
    "import pandas as pd\n",
    "from backtesting import Backtest, Strategy\n",
    "import math\n",
    "from vnstock3 import Vnstock\n",
    "\n",
    "class DCA(Strategy):\n",
    "    average_monthly_income_vnd = 500  # Average monthly income in dollar\n",
    "    investment_percentage = 0.10  # Percentage of income to invest\n",
    "\n",
    "    def init(self):\n",
    "        self.amount_to_invest = self.average_monthly_income_vnd * self.investment_percentage/4\n",
    "        self.day_of_week = self.I(\n",
    "            lambda x: x,\n",
    "            self.data.Close.s.index.dayofweek,\n",
    "            plot=False,\n",
    "        )\n",
    "\n",
    "    def next(self):\n",
    "        if self.day_of_week[-1] == 1:\n",
    "            self.buy(size=math.floor(self.amount_to_invest / self.data.Close[-1]))\n",
    "            # try:\n",
    "            #     if self.data.Close[-1] / self.data.Close[-30] < 0.95:\n",
    "            #         self.buy(size=math.floor(self.amount_to_invest / self.data.Close[-1]))\n",
    "            # except:\n",
    "            #     pass\n",
    "\n",
    "def run_backtest(stock_symbol, usd_vnd_data):\n",
    "    # Fetch stock data\n",
    "    stock_data = Vnstock().stock(symbol=stock_symbol).quote.history(start='2019-01-01', end='2024-01-04')\n",
    "    stock_data = stock_data.rename(columns={\"open\": \"Open\", \"high\": \"High\", \"low\": \"Low\", \"close\": \"Close\", \"volume\": \"Volume\"})\n",
    "    stock_data.set_index('time', inplace=True)\n",
    "    stock_data.index = pd.to_datetime(stock_data.index)\n",
    "\n",
    "    # Merge USD/VND data\n",
    "    stock_data['usd/vnd'] = usd_vnd_data['Close'] / 1000\n",
    "    stock_data['Close'] = stock_data['Close'] / stock_data['usd/vnd']\n",
    "\n",
    "    # Handle NaN values (choose one method)\n",
    "    stock_data = stock_data.dropna()\n",
    "    # stock_data = stock_data.interpolate(method='linear')\n",
    "    # stock_data = stock_data.ffill()\n",
    "    # stock_data = stock_data.bfill()\n",
    "\n",
    "    # Run the backtest\n",
    "    bt = Backtest(\n",
    "        stock_data,\n",
    "        DCA,\n",
    "        trade_on_close=True,\n",
    "    )\n",
    "    stats = bt.run()\n",
    "    #bt.plot(filename=f'{stock_symbol}')\n",
    "    # Calculate investment details\n",
    "    trades = stats[\"_trades\"]\n",
    "    price_paid = trades[\"Size\"] * trades[\"EntryPrice\"]\n",
    "    total_invested = price_paid.sum()\n",
    "\n",
    "    current_shares = trades[\"Size\"].sum()\n",
    "    current_equity = current_shares * stock_data.Close.iloc[-1]\n",
    "\n",
    "    print(f\"Results for {stock_symbol}:\")\n",
    "    print(\"Total investment:\", total_invested)\n",
    "    print(\"Current Shares:\", current_shares)\n",
    "    print(\"Current Equity:\", current_equity)\n",
    "    print(\"RoR:\", ((current_equity - total_invested) / total_invested)*100)\n",
    "    print(\"-\" * 50)\n",
    "\n",
    "# Load USD/VND data\n",
    "usd_vnd_data = pd.read_csv('D:/datcom lab/BACKTESTING LIBRARY LEARNING/VND=XCommon.csv')\n",
    "usd_vnd_data['Date'] = pd.to_datetime(usd_vnd_data['Date'])\n",
    "usd_vnd_data.set_index('Date', inplace=True)\n",
    "\n",
    "# List of stock symbols\n",
    "stock_symbols = [\"VNM\", \"DPM\", \"MBB\", \"MWG\", \"SSI\", 'VRE']  # Add more stock symbols as needed\n",
    "\n",
    "# Run backtest for each stock\n",
    "for symbol in stock_symbols:\n",
    "    run_backtest(symbol, usd_vnd_data)"
   ]
  },
  {
   "cell_type": "markdown",
   "metadata": {},
   "source": [
    "LÔ CHẴN THEO TUẦN"
   ]
  },
  {
   "cell_type": "code",
   "execution_count": 52,
   "metadata": {},
   "outputs": [
    {
     "name": "stderr",
     "output_type": "stream",
     "text": [
      "2024-08-19 13:32:47,807 - vnstock3.common.data.data_explorer - WARNING - Thông tin niêm yết & giao dịch sẽ được truy xuất từ TCBS\n"
     ]
    },
    {
     "name": "stderr",
     "output_type": "stream",
     "text": [
      "2024-08-19 13:32:48,602 - vnstock3.common.data.data_explorer - WARNING - Thông tin niêm yết & giao dịch sẽ được truy xuất từ TCBS\n"
     ]
    },
    {
     "name": "stdout",
     "output_type": "stream",
     "text": [
      "Results for VNM:\n",
      "Total investment: 2919.3377550366804\n",
      "Current Shares: 900\n",
      "Current Equity: 2520.369989722508\n",
      "RoR: -13.666379117176172\n",
      "--------------------------------------------------\n"
     ]
    },
    {
     "name": "stderr",
     "output_type": "stream",
     "text": [
      "2024-08-19 13:32:49,493 - vnstock3.common.data.data_explorer - WARNING - Thông tin niêm yết & giao dịch sẽ được truy xuất từ TCBS\n"
     ]
    },
    {
     "name": "stdout",
     "output_type": "stream",
     "text": [
      "Results for DPM:\n",
      "Total investment: 3093.4142444040995\n",
      "Current Shares: 4500\n",
      "Current Equity: 6280.575539568346\n",
      "RoR: 103.03053659656909\n",
      "--------------------------------------------------\n"
     ]
    },
    {
     "name": "stderr",
     "output_type": "stream",
     "text": [
      "2024-08-19 13:32:50,327 - vnstock3.common.data.data_explorer - WARNING - Thông tin niêm yết & giao dịch sẽ được truy xuất từ TCBS\n"
     ]
    },
    {
     "name": "stdout",
     "output_type": "stream",
     "text": [
      "Results for MBB:\n",
      "Total investment: 3127.5424603731003\n",
      "Current Shares: 5900\n",
      "Current Equity: 4545.364850976362\n",
      "RoR: 45.33343379242634\n",
      "--------------------------------------------------\n"
     ]
    },
    {
     "name": "stderr",
     "output_type": "stream",
     "text": [
      "2024-08-19 13:32:51,129 - vnstock3.common.data.data_explorer - WARNING - Thông tin niêm yết & giao dịch sẽ được truy xuất từ TCBS\n"
     ]
    },
    {
     "name": "stdout",
     "output_type": "stream",
     "text": [
      "Results for MWG:\n",
      "Total investment: 3125.1751847606147\n",
      "Current Shares: 1800\n",
      "Current Equity: 3171.551901336074\n",
      "RoR: 1.4839717402597945\n",
      "--------------------------------------------------\n"
     ]
    },
    {
     "name": "stderr",
     "output_type": "stream",
     "text": [
      "2024-08-19 13:32:52,023 - vnstock3.common.data.data_explorer - WARNING - Thông tin niêm yết & giao dịch sẽ được truy xuất từ TCBS\n"
     ]
    },
    {
     "name": "stdout",
     "output_type": "stream",
     "text": [
      "Results for SSI:\n",
      "Total investment: 3082.5408863428083\n",
      "Current Shares: 4800\n",
      "Current Equity: 6501.952723535458\n",
      "RoR: 110.92835304609739\n",
      "--------------------------------------------------\n",
      "Results for VRE:\n",
      "Total investment: 3123.0563897583716\n",
      "Current Shares: 2500\n",
      "Current Equity: 2389.5169578622817\n",
      "RoR: -23.487870225514666\n",
      "--------------------------------------------------\n"
     ]
    }
   ],
   "source": [
    "import pandas as pd\n",
    "from backtesting import Backtest, Strategy\n",
    "import math\n",
    "from vnstock3 import Vnstock\n",
    "\n",
    "\n",
    "class DCA(Strategy):\n",
    "    average_monthly_income_vnd = 500  # Average monthly income in dollar\n",
    "    investment_percentage = 0.10  # Percentage of income to invest\n",
    "    fund = 0\n",
    "    def init(self):\n",
    "        self.amount_to_invest = self.average_monthly_income_vnd * self.investment_percentage/4\n",
    "        self.day_of_week = self.I(\n",
    "            lambda x: x,\n",
    "            self.data.Close.s.index.dayofweek,\n",
    "            plot=False,\n",
    "        )\n",
    "\n",
    "    def next(self):\n",
    "        if self.day_of_week[-1] == 1:\n",
    "            share_price = self.data.Close[-1]\n",
    "            shares_to_buy = self.amount_to_invest // share_price\n",
    "            if shares_to_buy >= 100:\n",
    "                shares_to_buy = (shares_to_buy // 100) * 100\n",
    "                self.buy(size=shares_to_buy)\n",
    "                #print(f\"Buy executed at {self.data.index[-1]} with {shares_to_buy} shares at price {share_price}, total price {share_price * shares_to_buy}\")\n",
    "            else:\n",
    "                self.fund += self.amount_to_invest\n",
    "                shares_to_buy = self.fund // share_price\n",
    "                if shares_to_buy >= 100:\n",
    "                    shares_to_buy = (shares_to_buy // 100) * 100\n",
    "                    self.fund -= shares_to_buy * share_price\n",
    "                    self.buy(size=shares_to_buy)\n",
    "           \n",
    "def run_backtest(stock_symbol, usd_vnd_data):\n",
    "    # Fetch stock data\n",
    "    stock_data = Vnstock().stock(symbol=stock_symbol).quote.history(start='2019-01-01', end='2024-01-04')\n",
    "    stock_data = stock_data.rename(columns={\"open\": \"Open\", \"high\": \"High\", \"low\": \"Low\", \"close\": \"Close\", \"volume\": \"Volume\"})\n",
    "    stock_data.set_index('time', inplace=True)\n",
    "    stock_data.index = pd.to_datetime(stock_data.index)\n",
    "\n",
    "    # Merge USD/VND data\n",
    "    stock_data['usd/vnd'] = usd_vnd_data['Close'] / 1000\n",
    "    stock_data['Close'] = stock_data['Close'] / stock_data['usd/vnd']\n",
    "\n",
    "    # Handle NaN values (choose one method)\n",
    "    stock_data = stock_data.dropna()\n",
    "    # stock_data = stock_data.interpolate(method='linear')\n",
    "    # stock_data = stock_data.ffill()\n",
    "    # stock_data = stock_data.bfill()\n",
    "\n",
    "    # Run the backtest\n",
    "    bt = Backtest(\n",
    "        stock_data,\n",
    "        DCA,\n",
    "        trade_on_close=True,\n",
    "    )\n",
    "    stats = bt.run()\n",
    "    #bt.plot(filename=f'{stock_symbol}')\n",
    "    # Calculate investment details\n",
    "    trades = stats[\"_trades\"]\n",
    "    price_paid = trades[\"Size\"] * trades[\"EntryPrice\"]\n",
    "    total_invested = price_paid.sum()\n",
    "\n",
    "    current_shares = trades[\"Size\"].sum()\n",
    "    current_equity = current_shares * stock_data.Close.iloc[-1]\n",
    "\n",
    "    print(f\"Results for {stock_symbol}:\")\n",
    "    print(\"Total investment:\", total_invested)\n",
    "    print(\"Current Shares:\", current_shares)\n",
    "    print(\"Current Equity:\", current_equity)\n",
    "    print(\"RoR:\", ((current_equity - total_invested) / total_invested)*100)\n",
    "    print(\"-\" * 50)\n",
    "\n",
    "# Load USD/VND data\n",
    "usd_vnd_data = pd.read_csv('D:/datcom lab/BACKTESTING LIBRARY LEARNING/VND=XCommon.csv')\n",
    "usd_vnd_data['Date'] = pd.to_datetime(usd_vnd_data['Date'])\n",
    "usd_vnd_data.set_index('Date', inplace=True)\n",
    "\n",
    "# List of stock symbols\n",
    "stock_symbols = [\"VNM\", \"DPM\", \"MBB\", \"MWG\", \"SSI\", 'VRE']  # Add more stock symbols as needed\n",
    "\n",
    "# Run backtest for each stock\n",
    "for symbol in stock_symbols:\n",
    "    run_backtest(symbol, usd_vnd_data)\n"
   ]
  },
  {
   "cell_type": "markdown",
   "metadata": {},
   "source": [
    "LÔ CHẴN VÀ THEO THÁNG"
   ]
  },
  {
   "cell_type": "code",
   "execution_count": 53,
   "metadata": {},
   "outputs": [
    {
     "name": "stderr",
     "output_type": "stream",
     "text": [
      "2024-08-19 13:32:53,043 - vnstock3.common.data.data_explorer - WARNING - Thông tin niêm yết & giao dịch sẽ được truy xuất từ TCBS\n"
     ]
    },
    {
     "name": "stderr",
     "output_type": "stream",
     "text": [
      "2024-08-19 13:32:53,849 - vnstock3.common.data.data_explorer - WARNING - Thông tin niêm yết & giao dịch sẽ được truy xuất từ TCBS\n"
     ]
    },
    {
     "name": "stdout",
     "output_type": "stream",
     "text": [
      "Results for VNM:\n",
      "Total investment: 2906.7042260814187\n",
      "Current Shares: 900\n",
      "Current Equity: 2520.369989722508\n",
      "RoR: -13.291143725336482\n",
      "--------------------------------------------------\n"
     ]
    },
    {
     "name": "stderr",
     "output_type": "stream",
     "text": [
      "2024-08-19 13:32:54,693 - vnstock3.common.data.data_explorer - WARNING - Thông tin niêm yết & giao dịch sẽ được truy xuất từ TCBS\n"
     ]
    },
    {
     "name": "stdout",
     "output_type": "stream",
     "text": [
      "Results for DPM:\n",
      "Total investment: 2724.540986912533\n",
      "Current Shares: 3800\n",
      "Current Equity: 5303.597122302159\n",
      "RoR: 94.66020690377754\n",
      "--------------------------------------------------\n"
     ]
    },
    {
     "name": "stderr",
     "output_type": "stream",
     "text": [
      "2024-08-19 13:32:55,531 - vnstock3.common.data.data_explorer - WARNING - Thông tin niêm yết & giao dịch sẽ được truy xuất từ TCBS\n"
     ]
    },
    {
     "name": "stdout",
     "output_type": "stream",
     "text": [
      "Results for MBB:\n",
      "Total investment: 2679.0911186330277\n",
      "Current Shares: 4800\n",
      "Current Equity: 3697.92394655704\n",
      "RoR: 38.029047270473534\n",
      "--------------------------------------------------\n"
     ]
    },
    {
     "name": "stderr",
     "output_type": "stream",
     "text": [
      "2024-08-19 13:32:56,370 - vnstock3.common.data.data_explorer - WARNING - Thông tin niêm yết & giao dịch sẽ được truy xuất từ TCBS\n"
     ]
    },
    {
     "name": "stdout",
     "output_type": "stream",
     "text": [
      "Results for MWG:\n",
      "Total investment: 2859.0652804272304\n",
      "Current Shares: 1700\n",
      "Current Equity: 2995.35457348407\n",
      "RoR: 4.7669178451383205\n",
      "--------------------------------------------------\n"
     ]
    },
    {
     "name": "stderr",
     "output_type": "stream",
     "text": [
      "2024-08-19 13:32:57,227 - vnstock3.common.data.data_explorer - WARNING - Thông tin niêm yết & giao dịch sẽ được truy xuất từ TCBS\n"
     ]
    },
    {
     "name": "stdout",
     "output_type": "stream",
     "text": [
      "Results for SSI:\n",
      "Total investment: 2681.6805084490425\n",
      "Current Shares: 4000\n",
      "Current Equity: 5418.293936279549\n",
      "RoR: 102.0484513053807\n",
      "--------------------------------------------------\n",
      "Results for VRE:\n",
      "Total investment: 2928.3029450136164\n",
      "Current Shares: 2300\n",
      "Current Equity: 2198.3556012332992\n",
      "RoR: -24.927316520419744\n",
      "--------------------------------------------------\n"
     ]
    }
   ],
   "source": [
    "import pandas as pd\n",
    "from backtesting import Backtest, Strategy\n",
    "import math\n",
    "from vnstock3 import Vnstock\n",
    "\n",
    "def calculate_first_mondays(dates):\n",
    "        if not isinstance(dates, pd.DatetimeIndex):\n",
    "            dates = pd.DatetimeIndex(dates)\n",
    "        dates_series = pd.Series(dates, index=dates)\n",
    "        mondays = dates_series[dates_series.dt.dayofweek == 0]\n",
    "        first_mondays = mondays.groupby([mondays.dt.year, mondays.dt.month]).first()\n",
    "        return set(first_mondays)\n",
    "\n",
    "class DCA(Strategy):\n",
    "    average_monthly_income_vnd = 500  # Average monthly income in dollar\n",
    "    investment_percentage = 0.10  # Percentage of income to invest\n",
    "    fund = 0\n",
    "    def init(self):\n",
    "        self.amount_to_invest = self.average_monthly_income_vnd * self.investment_percentage\n",
    "        self.first_mondays = calculate_first_mondays(self.data.index)\n",
    "        # self.day_of_week = self.I(\n",
    "        #     lambda x: x,\n",
    "        #     self.data.Close.s.index.dayofweek,\n",
    "        #     plot=False,\n",
    "        # )\n",
    "\n",
    "    def next(self):\n",
    "        today = self.data.index[-1]\n",
    "        if today in self.first_mondays:\n",
    "            # self.buy(size=math.floor(self.amount_to_invest / self.data.Close[-1]))\n",
    "            share_price = self.data.Close[-1]\n",
    "            shares_to_buy = self.amount_to_invest // share_price\n",
    "            if shares_to_buy >= 100:\n",
    "                shares_to_buy = (shares_to_buy // 100) * 100\n",
    "                self.buy(size=shares_to_buy)\n",
    "                #print(f\"Buy executed at {self.data.index[-1]} with {shares_to_buy} shares at price {share_price}, total price {share_price * shares_to_buy}\")\n",
    "            else:\n",
    "                self.fund += self.amount_to_invest\n",
    "                shares_to_buy = self.fund // share_price\n",
    "                if shares_to_buy >= 100:\n",
    "                    shares_to_buy = (shares_to_buy // 100) * 100\n",
    "                    self.fund -= shares_to_buy * share_price\n",
    "                    self.buy(size=shares_to_buy)\n",
    "                    #print(self.fund)\n",
    "                    #print(f\"Buy by fund executed at {self.data.index[-1]} with {shares_to_buy} shares at price {share_price}, total price {share_price * shares_to_buy}\")\n",
    "def run_backtest(stock_symbol, usd_vnd_data):\n",
    "    # Fetch stock data\n",
    "    stock_data = Vnstock().stock(symbol=stock_symbol).quote.history(start='2019-01-01', end='2024-01-04')\n",
    "    stock_data = stock_data.rename(columns={\"open\": \"Open\", \"high\": \"High\", \"low\": \"Low\", \"close\": \"Close\", \"volume\": \"Volume\"})\n",
    "    stock_data.set_index('time', inplace=True)\n",
    "    stock_data.index = pd.to_datetime(stock_data.index)\n",
    "\n",
    "    # Merge USD/VND data\n",
    "    stock_data['usd/vnd'] = usd_vnd_data['Close'] / 1000\n",
    "    stock_data['Close'] = stock_data['Close'] / stock_data['usd/vnd']\n",
    "\n",
    "    # Handle NaN values (choose one method)\n",
    "    stock_data = stock_data.dropna()\n",
    "    # stock_data = stock_data.interpolate(method='linear')\n",
    "    # stock_data = stock_data.ffill()\n",
    "    # stock_data = stock_data.bfill()\n",
    "\n",
    "    # Run the backtest\n",
    "    bt = Backtest(\n",
    "        stock_data,\n",
    "        DCA,\n",
    "        trade_on_close=True,\n",
    "    )\n",
    "    stats = bt.run()\n",
    "    #bt.plot(filename=f'{stock_symbol}')\n",
    "    # Calculate investment details\n",
    "    trades = stats[\"_trades\"]\n",
    "    price_paid = trades[\"Size\"] * trades[\"EntryPrice\"]\n",
    "    total_invested = price_paid.sum()\n",
    "\n",
    "    current_shares = trades[\"Size\"].sum()\n",
    "    current_equity = current_shares * stock_data.Close.iloc[-1]\n",
    "\n",
    "    print(f\"Results for {stock_symbol}:\")\n",
    "    print(\"Total investment:\", total_invested)\n",
    "    print(\"Current Shares:\", current_shares)\n",
    "    print(\"Current Equity:\", current_equity)\n",
    "    print(\"RoR:\", ((current_equity - total_invested) / total_invested)*100)\n",
    "    print(\"-\" * 50)\n",
    "\n",
    "# Load USD/VND data\n",
    "usd_vnd_data = pd.read_csv('D:/datcom lab/BACKTESTING LIBRARY LEARNING/VND=XCommon.csv')\n",
    "usd_vnd_data['Date'] = pd.to_datetime(usd_vnd_data['Date'])\n",
    "usd_vnd_data.set_index('Date', inplace=True)\n",
    "\n",
    "# List of stock symbols\n",
    "#stock_symbols = ['SSI', 'EIB', 'HPG']  # Add more stock symbols as needed\n",
    "stock_symbols = [\"VNM\", \"DPM\", \"MBB\", \"MWG\", \"SSI\", 'VRE']\n",
    "# Run backtest for each stock\n",
    "for symbol in stock_symbols:\n",
    "    run_backtest(symbol, usd_vnd_data)\n"
   ]
  },
  {
   "cell_type": "code",
   "execution_count": 54,
   "metadata": {},
   "outputs": [
    {
     "name": "stdout",
     "output_type": "stream",
     "text": [
      "24\n"
     ]
    }
   ],
   "source": [
    "import random\n",
    "\n",
    "# Generate a random number between 1 and 30\n",
    "random_number = random.randint(1, 30)\n",
    "\n",
    "# Print the random number\n",
    "print(random_number)\n"
   ]
  }
 ],
 "metadata": {
  "kernelspec": {
   "display_name": "Python 3",
   "language": "python",
   "name": "python3"
  },
  "language_info": {
   "codemirror_mode": {
    "name": "ipython",
    "version": 3
   },
   "file_extension": ".py",
   "mimetype": "text/x-python",
   "name": "python",
   "nbconvert_exporter": "python",
   "pygments_lexer": "ipython3",
   "version": "3.12.0"
  }
 },
 "nbformat": 4,
 "nbformat_minor": 2
}
