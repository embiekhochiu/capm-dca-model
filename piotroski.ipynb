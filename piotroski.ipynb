{
 "cells": [
  {
   "cell_type": "code",
   "execution_count": 1,
   "metadata": {},
   "outputs": [],
   "source": [
    "from vnstock import *"
   ]
  },
  {
   "cell_type": "code",
   "execution_count": 2,
   "metadata": {},
   "outputs": [],
   "source": [
    "company_ratio = financial_ratio(\"VCB\", 'yearly', True)\n",
    "company_ratio = company_ratio.fillna(0)\n",
    "company_ratio_2018 = company_ratio[2018]\n",
    "company_ratio_2018\n",
    "company_ratio_2017 = company_ratio[2017]"
   ]
  },
  {
   "cell_type": "code",
   "execution_count": 3,
   "metadata": {},
   "outputs": [
    {
     "name": "stderr",
     "output_type": "stream",
     "text": [
      "C:\\Users\\Admin\\AppData\\Local\\Temp\\ipykernel_5908\\1738537066.py:2: FutureWarning: Downcasting object dtype arrays on .fillna, .ffill, .bfill is deprecated and will change in a future version. Call result.infer_objects(copy=False) instead. To opt-in to the future behavior, set `pd.set_option('future.no_silent_downcasting', True)`\n",
      "  comp_financial = comp_financial.fillna(0)\n"
     ]
    }
   ],
   "source": [
    "comp_financial = financial_flow(symbol=\"VCB\", report_type='incomestatement', report_range='yearly', get_all=True)\n",
    "comp_financial = comp_financial.fillna(0)\n",
    "comp_financial_2018 = comp_financial.loc['2018']\n",
    "comp_financial_2018\n",
    "comp_financial_2017 = comp_financial.loc['2017']"
   ]
  },
  {
   "cell_type": "code",
   "execution_count": 4,
   "metadata": {},
   "outputs": [
    {
     "data": {
      "text/plain": [
       "ticker                       VCB\n",
       "priceToEarning              13.4\n",
       "priceToBook                  3.1\n",
       "dividend                    0.08\n",
       "roe                        0.255\n",
       "roa                        0.014\n",
       "earningPerShare             3938\n",
       "bookValuePerShare          16765\n",
       "interestMargin             0.028\n",
       "nonInterestOnToi           0.277\n",
       "badDebtPercentage           0.01\n",
       "provisionOnBadDebt         1.654\n",
       "costOfFinancing            0.028\n",
       "equityOnTotalAsset         0.058\n",
       "equityOnLoan               0.098\n",
       "costToIncome               0.347\n",
       "equityOnLiability            0.1\n",
       "epsChange                  0.607\n",
       "assetOnEquity               17.3\n",
       "preProvisionOnToi          0.523\n",
       "postTaxOnToi               0.372\n",
       "loanOnEarnAsset            0.611\n",
       "loanOnAsset                0.588\n",
       "loanOnDeposit              0.788\n",
       "depositOnEarnAsset         0.775\n",
       "badDebtOnAsset             0.006\n",
       "liquidityOnLiability       0.423\n",
       "payableOnEquity             16.3\n",
       "cancelDebt                 0.009\n",
       "bookValuePerShareChange    0.183\n",
       "creditGrowth               0.163\n",
       "Name: 2018, dtype: object"
      ]
     },
     "execution_count": 4,
     "metadata": {},
     "output_type": "execute_result"
    }
   ],
   "source": [
    "company_ratio_2018"
   ]
  },
  {
   "cell_type": "code",
   "execution_count": 5,
   "metadata": {},
   "outputs": [
    {
     "data": {
      "text/plain": [
       "Index(['ticker', 'revenue', 'yearRevenueGrowth', 'quarterRevenueGrowth',\n",
       "       'costOfGoodSold', 'grossProfit', 'operationExpense', 'operationProfit',\n",
       "       'yearOperationProfitGrowth', 'quarterOperationProfitGrowth',\n",
       "       'interestExpense', 'preTaxProfit', 'postTaxProfit', 'shareHolderIncome',\n",
       "       'yearShareHolderIncomeGrowth', 'quarterShareHolderIncomeGrowth',\n",
       "       'investProfit', 'serviceProfit', 'otherProfit', 'provisionExpense',\n",
       "       'operationIncome', 'ebitda'],\n",
       "      dtype='object')"
      ]
     },
     "execution_count": 5,
     "metadata": {},
     "output_type": "execute_result"
    }
   ],
   "source": [
    "comp_financial.columns"
   ]
  },
  {
   "cell_type": "code",
   "execution_count": 6,
   "metadata": {},
   "outputs": [
    {
     "data": {
      "text/plain": [
       "Index(['ticker', 'priceToEarning', 'priceToBook', 'dividend', 'roe', 'roa',\n",
       "       'earningPerShare', 'bookValuePerShare', 'interestMargin',\n",
       "       'nonInterestOnToi', 'badDebtPercentage', 'provisionOnBadDebt',\n",
       "       'costOfFinancing', 'equityOnTotalAsset', 'equityOnLoan', 'costToIncome',\n",
       "       'equityOnLiability', 'epsChange', 'assetOnEquity', 'preProvisionOnToi',\n",
       "       'postTaxOnToi', 'loanOnEarnAsset', 'loanOnAsset', 'loanOnDeposit',\n",
       "       'depositOnEarnAsset', 'badDebtOnAsset', 'liquidityOnLiability',\n",
       "       'payableOnEquity', 'cancelDebt', 'bookValuePerShareChange',\n",
       "       'creditGrowth'],\n",
       "      dtype='object')"
      ]
     },
     "execution_count": 6,
     "metadata": {},
     "output_type": "execute_result"
    }
   ],
   "source": [
    "company_ratio_2018.index"
   ]
  },
  {
   "cell_type": "code",
   "execution_count": 7,
   "metadata": {},
   "outputs": [
    {
     "name": "stderr",
     "output_type": "stream",
     "text": [
      "C:\\Users\\Admin\\AppData\\Local\\Temp\\ipykernel_5908\\3247551784.py:2: FutureWarning: Downcasting object dtype arrays on .fillna, .ffill, .bfill is deprecated and will change in a future version. Call result.infer_objects(copy=False) instead. To opt-in to the future behavior, set `pd.set_option('future.no_silent_downcasting', True)`\n",
      "  comp = comp.fillna(0)\n"
     ]
    },
    {
     "data": {
      "text/plain": [
       "np.float64(64561.0)"
      ]
     },
     "execution_count": 7,
     "metadata": {},
     "output_type": "execute_result"
    }
   ],
   "source": [
    "comp = financial_flow(symbol=\"VCB\", report_type='balancesheet', report_range='yearly', get_all=True)\n",
    "comp = comp.fillna(0)\n",
    "comp_2018 = comp.loc['2018']\n",
    "comp_2017 = comp.loc['2017']\n",
    "comp_2018.index\n",
    "\n",
    "current_assets = comp_2018['cash'] + comp_2018['shortInvest'] + comp_2018['shortReceivable'] + comp_2018['inventory'] + comp_2018['otherAsset']\n",
    "current_liabilities = comp_2018['shortDebt'] + comp_2018['payable'] + comp_2018['otherDebt'] + comp_2018['payableInterest'] + comp_2018['oweOtherBank'] + comp_2018['oweCentralBank']\n",
    "working_cap_2018 = current_assets - current_liabilities\n",
    "working_cap_2018\n",
    "ca_2017 = comp_2017['cash'] + comp_2017['shortInvest'] + comp_2017['shortReceivable'] + comp_2017['inventory'] + comp_2017['otherAsset']\n",
    "cl_2017 = comp_2018['shortDebt'] + comp_2017['payable'] + comp_2017['otherDebt'] + comp_2017['payableInterest'] + comp_2017['oweOtherBank'] + comp_2017['oweCentralBank']\n",
    "work_cap_2017 = ca_2017 - cl_2017\n",
    "increase_in_working_cap = working_cap_2018 - work_cap_2017\n",
    "increase_in_working_cap"
   ]
  },
  {
   "cell_type": "code",
   "execution_count": 8,
   "metadata": {},
   "outputs": [
    {
     "data": {
      "text/plain": [
       "ticker                        VCB\n",
       "shortAsset                      0\n",
       "cash                        10103\n",
       "shortInvest                     0\n",
       "shortReceivable                 0\n",
       "inventory                       0\n",
       "longAsset                       0\n",
       "fixedAsset                   6162\n",
       "asset                     1035293\n",
       "debt                       982735\n",
       "shortDebt                       0\n",
       "longDebt                        0\n",
       "equity                      52558\n",
       "capital                     35978\n",
       "centralBankDeposit          93616\n",
       "otherBankDeposit           159043\n",
       "otherBankLoan             73930.0\n",
       "stockInvest                143174\n",
       "customerLoan               543434\n",
       "badLoan                      6209\n",
       "provision                   -8113\n",
       "netCustomerLoan            535321\n",
       "otherAsset                  13111\n",
       "otherBankCredit             55804\n",
       "oweOtherBank              11138.0\n",
       "oweCentralBank             171385\n",
       "valuablePaper               18215\n",
       "payableInterest            8467.0\n",
       "receivableInterest         6026.0\n",
       "deposit                    708520\n",
       "otherDebt                   17651\n",
       "fund                         7254\n",
       "unDistributedIncome          8715\n",
       "minorShareHolderProfit       89.0\n",
       "payable                    982735\n",
       "Name: 2017, dtype: object"
      ]
     },
     "execution_count": 8,
     "metadata": {},
     "output_type": "execute_result"
    }
   ],
   "source": [
    "comp_2017"
   ]
  },
  {
   "cell_type": "code",
   "execution_count": 9,
   "metadata": {},
   "outputs": [
    {
     "data": {
      "text/plain": [
       "Index(['ticker', 'shortAsset', 'cash', 'shortInvest', 'shortReceivable',\n",
       "       'inventory', 'longAsset', 'fixedAsset', 'asset', 'debt', 'shortDebt',\n",
       "       'longDebt', 'equity', 'capital', 'centralBankDeposit',\n",
       "       'otherBankDeposit', 'otherBankLoan', 'stockInvest', 'customerLoan',\n",
       "       'badLoan', 'provision', 'netCustomerLoan', 'otherAsset',\n",
       "       'otherBankCredit', 'oweOtherBank', 'oweCentralBank', 'valuablePaper',\n",
       "       'payableInterest', 'receivableInterest', 'deposit', 'otherDebt', 'fund',\n",
       "       'unDistributedIncome', 'minorShareHolderProfit', 'payable'],\n",
       "      dtype='object')"
      ]
     },
     "execution_count": 9,
     "metadata": {},
     "output_type": "execute_result"
    }
   ],
   "source": [
    "comp_2017.index"
   ]
  },
  {
   "cell_type": "code",
   "execution_count": 10,
   "metadata": {},
   "outputs": [
    {
     "data": {
      "text/plain": [
       "np.float64(-49939.0)"
      ]
     },
     "execution_count": 10,
     "metadata": {},
     "output_type": "execute_result"
    }
   ],
   "source": [
    "if comp_financial_2018['ebitda'] == 0:\n",
    "    est_depreciation = 0\n",
    "else:\n",
    "    est_depreciation = comp_financial_2018['ebitda'] - comp_financial_2018['operationProfit'] \n",
    "est_OCF = comp_financial_2018['postTaxProfit'] + est_depreciation - increase_in_working_cap\n",
    "est_OCF"
   ]
  },
  {
   "cell_type": "code",
   "execution_count": 11,
   "metadata": {},
   "outputs": [],
   "source": [
    "current_rat2017 = ca_2017/cl_2017\n",
    "current_rat2018 = current_assets/current_liabilities"
   ]
  },
  {
   "cell_type": "code",
   "execution_count": 12,
   "metadata": {},
   "outputs": [],
   "source": [
    "ROA = company_ratio_2018['roa']\n",
    "EPS2017 = company_ratio_2017['earningPerShare']\n",
    "EPS2018 = company_ratio_2018['earningPerShare']\n",
    "net_income2018 = comp_financial_2018['postTaxProfit']\n",
    "net_income2017 = comp_financial_2017['postTaxProfit']\n",
    "estimate_OCF = est_OCF\n",
    "current_longdebt = comp_2018['longDebt']\n",
    "previous_longdebt = comp_2017['longDebt']\n",
    "gross_margin2017 = comp_financial_2017['grossProfit'] / comp_financial_2017['revenue']\n",
    "gross_margin2018 = comp_financial_2018['grossProfit'] / comp_financial_2018['revenue']\n",
    "asset_turn_rate2017 = comp_financial_2017['revenue']/((comp_2017['asset']+comp_2017['asset'])/2)\n",
    "asset_turn_rate2018 = comp_financial_2018['revenue']/((comp_2018['asset']+comp_2018['asset'])/2)"
   ]
  },
  {
   "cell_type": "code",
   "execution_count": 13,
   "metadata": {},
   "outputs": [
    {
     "name": "stdout",
     "output_type": "stream",
     "text": [
      "2451\n",
      "3938\n",
      "9111\n",
      "14622\n"
     ]
    }
   ],
   "source": [
    "print(EPS2017)\n",
    "print(EPS2018)\n",
    "print(net_income2017)\n",
    "print(net_income2018)"
   ]
  },
  {
   "cell_type": "code",
   "execution_count": 14,
   "metadata": {},
   "outputs": [],
   "source": [
    "def piotroski():\n",
    "    compscore = 0\n",
    "    if ROA > 0:\n",
    "        compscore +=1\n",
    "    if net_income2018 > 0:\n",
    "        compscore +=1\n",
    "    if estimate_OCF > 0:\n",
    "        compscore +=1\n",
    "    if estimate_OCF > net_income2018:\n",
    "        compscore +=1\n",
    "    if current_longdebt < previous_longdebt:\n",
    "        compscore+=1\n",
    "    if current_rat2018 > current_rat2017:\n",
    "        compscore+=1\n",
    "    if gross_margin2018 > gross_margin2017:\n",
    "        compscore+=1\n",
    "    if asset_turn_rate2018>asset_turn_rate2017:\n",
    "        compscore+=1\n",
    "    # if  EPS2017 * 1.1 <= EPS2018 and net_income2017 * 1.1 <= net_income2018:\n",
    "    #     compscore+=1\n",
    "\n",
    "    if eps_change <= 0.05:\n",
    "        compscore +=1\n",
    "\n",
    "    return compscore\n",
    "    "
   ]
  },
  {
   "cell_type": "code",
   "execution_count": 15,
   "metadata": {},
   "outputs": [],
   "source": [
    "VN30_2019 = [\"VNM\",'TCB','VIC','MSN','HPG','VPB','VHM','VJC',\n",
    "             'MWG','MBB','SAB','VCB','HDB','FPT','STB','NVL',\n",
    "             'EIB','VRE','PNJ','GAS','SSI','CTG','GMD','CTD',\n",
    "             'ROS','REE','SBT','CII','DPM','DHG']"
   ]
  },
  {
   "cell_type": "code",
   "execution_count": 16,
   "metadata": {},
   "outputs": [],
   "source": [
    "piotroski_score = {}"
   ]
  },
  {
   "cell_type": "code",
   "execution_count": 17,
   "metadata": {},
   "outputs": [
    {
     "name": "stderr",
     "output_type": "stream",
     "text": [
      "C:\\Users\\Admin\\AppData\\Local\\Temp\\ipykernel_5908\\1501700537.py:9: FutureWarning: Downcasting object dtype arrays on .fillna, .ffill, .bfill is deprecated and will change in a future version. Call result.infer_objects(copy=False) instead. To opt-in to the future behavior, set `pd.set_option('future.no_silent_downcasting', True)`\n",
      "  comp_financial = comp_financial.fillna(0)\n",
      "C:\\Users\\Admin\\AppData\\Local\\Temp\\ipykernel_5908\\1501700537.py:14: FutureWarning: Downcasting object dtype arrays on .fillna, .ffill, .bfill is deprecated and will change in a future version. Call result.infer_objects(copy=False) instead. To opt-in to the future behavior, set `pd.set_option('future.no_silent_downcasting', True)`\n",
      "  comp = comp.fillna(0)\n",
      "C:\\Users\\Admin\\AppData\\Local\\Temp\\ipykernel_5908\\1501700537.py:9: FutureWarning: Downcasting object dtype arrays on .fillna, .ffill, .bfill is deprecated and will change in a future version. Call result.infer_objects(copy=False) instead. To opt-in to the future behavior, set `pd.set_option('future.no_silent_downcasting', True)`\n",
      "  comp_financial = comp_financial.fillna(0)\n",
      "C:\\Users\\Admin\\AppData\\Local\\Temp\\ipykernel_5908\\1501700537.py:14: FutureWarning: Downcasting object dtype arrays on .fillna, .ffill, .bfill is deprecated and will change in a future version. Call result.infer_objects(copy=False) instead. To opt-in to the future behavior, set `pd.set_option('future.no_silent_downcasting', True)`\n",
      "  comp = comp.fillna(0)\n",
      "C:\\Users\\Admin\\AppData\\Local\\Temp\\ipykernel_5908\\1501700537.py:9: FutureWarning: Downcasting object dtype arrays on .fillna, .ffill, .bfill is deprecated and will change in a future version. Call result.infer_objects(copy=False) instead. To opt-in to the future behavior, set `pd.set_option('future.no_silent_downcasting', True)`\n",
      "  comp_financial = comp_financial.fillna(0)\n",
      "C:\\Users\\Admin\\AppData\\Local\\Temp\\ipykernel_5908\\1501700537.py:14: FutureWarning: Downcasting object dtype arrays on .fillna, .ffill, .bfill is deprecated and will change in a future version. Call result.infer_objects(copy=False) instead. To opt-in to the future behavior, set `pd.set_option('future.no_silent_downcasting', True)`\n",
      "  comp = comp.fillna(0)\n",
      "C:\\Users\\Admin\\AppData\\Local\\Temp\\ipykernel_5908\\1501700537.py:9: FutureWarning: Downcasting object dtype arrays on .fillna, .ffill, .bfill is deprecated and will change in a future version. Call result.infer_objects(copy=False) instead. To opt-in to the future behavior, set `pd.set_option('future.no_silent_downcasting', True)`\n",
      "  comp_financial = comp_financial.fillna(0)\n",
      "C:\\Users\\Admin\\AppData\\Local\\Temp\\ipykernel_5908\\1501700537.py:14: FutureWarning: Downcasting object dtype arrays on .fillna, .ffill, .bfill is deprecated and will change in a future version. Call result.infer_objects(copy=False) instead. To opt-in to the future behavior, set `pd.set_option('future.no_silent_downcasting', True)`\n",
      "  comp = comp.fillna(0)\n",
      "C:\\Users\\Admin\\AppData\\Local\\Temp\\ipykernel_5908\\1501700537.py:9: FutureWarning: Downcasting object dtype arrays on .fillna, .ffill, .bfill is deprecated and will change in a future version. Call result.infer_objects(copy=False) instead. To opt-in to the future behavior, set `pd.set_option('future.no_silent_downcasting', True)`\n",
      "  comp_financial = comp_financial.fillna(0)\n",
      "C:\\Users\\Admin\\AppData\\Local\\Temp\\ipykernel_5908\\1501700537.py:14: FutureWarning: Downcasting object dtype arrays on .fillna, .ffill, .bfill is deprecated and will change in a future version. Call result.infer_objects(copy=False) instead. To opt-in to the future behavior, set `pd.set_option('future.no_silent_downcasting', True)`\n",
      "  comp = comp.fillna(0)\n",
      "C:\\Users\\Admin\\AppData\\Local\\Temp\\ipykernel_5908\\1501700537.py:9: FutureWarning: Downcasting object dtype arrays on .fillna, .ffill, .bfill is deprecated and will change in a future version. Call result.infer_objects(copy=False) instead. To opt-in to the future behavior, set `pd.set_option('future.no_silent_downcasting', True)`\n",
      "  comp_financial = comp_financial.fillna(0)\n",
      "C:\\Users\\Admin\\AppData\\Local\\Temp\\ipykernel_5908\\1501700537.py:14: FutureWarning: Downcasting object dtype arrays on .fillna, .ffill, .bfill is deprecated and will change in a future version. Call result.infer_objects(copy=False) instead. To opt-in to the future behavior, set `pd.set_option('future.no_silent_downcasting', True)`\n",
      "  comp = comp.fillna(0)\n"
     ]
    },
    {
     "name": "stdout",
     "output_type": "stream",
     "text": [
      "Missing data for VHM in 2017. Skipping this symbol.\n"
     ]
    },
    {
     "name": "stderr",
     "output_type": "stream",
     "text": [
      "C:\\Users\\Admin\\AppData\\Local\\Temp\\ipykernel_5908\\1501700537.py:9: FutureWarning: Downcasting object dtype arrays on .fillna, .ffill, .bfill is deprecated and will change in a future version. Call result.infer_objects(copy=False) instead. To opt-in to the future behavior, set `pd.set_option('future.no_silent_downcasting', True)`\n",
      "  comp_financial = comp_financial.fillna(0)\n",
      "C:\\Users\\Admin\\AppData\\Local\\Temp\\ipykernel_5908\\1501700537.py:14: FutureWarning: Downcasting object dtype arrays on .fillna, .ffill, .bfill is deprecated and will change in a future version. Call result.infer_objects(copy=False) instead. To opt-in to the future behavior, set `pd.set_option('future.no_silent_downcasting', True)`\n",
      "  comp = comp.fillna(0)\n",
      "C:\\Users\\Admin\\AppData\\Local\\Temp\\ipykernel_5908\\1501700537.py:9: FutureWarning: Downcasting object dtype arrays on .fillna, .ffill, .bfill is deprecated and will change in a future version. Call result.infer_objects(copy=False) instead. To opt-in to the future behavior, set `pd.set_option('future.no_silent_downcasting', True)`\n",
      "  comp_financial = comp_financial.fillna(0)\n",
      "C:\\Users\\Admin\\AppData\\Local\\Temp\\ipykernel_5908\\1501700537.py:14: FutureWarning: Downcasting object dtype arrays on .fillna, .ffill, .bfill is deprecated and will change in a future version. Call result.infer_objects(copy=False) instead. To opt-in to the future behavior, set `pd.set_option('future.no_silent_downcasting', True)`\n",
      "  comp = comp.fillna(0)\n",
      "C:\\Users\\Admin\\AppData\\Local\\Temp\\ipykernel_5908\\1501700537.py:9: FutureWarning: Downcasting object dtype arrays on .fillna, .ffill, .bfill is deprecated and will change in a future version. Call result.infer_objects(copy=False) instead. To opt-in to the future behavior, set `pd.set_option('future.no_silent_downcasting', True)`\n",
      "  comp_financial = comp_financial.fillna(0)\n",
      "C:\\Users\\Admin\\AppData\\Local\\Temp\\ipykernel_5908\\1501700537.py:14: FutureWarning: Downcasting object dtype arrays on .fillna, .ffill, .bfill is deprecated and will change in a future version. Call result.infer_objects(copy=False) instead. To opt-in to the future behavior, set `pd.set_option('future.no_silent_downcasting', True)`\n",
      "  comp = comp.fillna(0)\n",
      "C:\\Users\\Admin\\AppData\\Local\\Temp\\ipykernel_5908\\1501700537.py:9: FutureWarning: Downcasting object dtype arrays on .fillna, .ffill, .bfill is deprecated and will change in a future version. Call result.infer_objects(copy=False) instead. To opt-in to the future behavior, set `pd.set_option('future.no_silent_downcasting', True)`\n",
      "  comp_financial = comp_financial.fillna(0)\n",
      "C:\\Users\\Admin\\AppData\\Local\\Temp\\ipykernel_5908\\1501700537.py:14: FutureWarning: Downcasting object dtype arrays on .fillna, .ffill, .bfill is deprecated and will change in a future version. Call result.infer_objects(copy=False) instead. To opt-in to the future behavior, set `pd.set_option('future.no_silent_downcasting', True)`\n",
      "  comp = comp.fillna(0)\n",
      "C:\\Users\\Admin\\AppData\\Local\\Temp\\ipykernel_5908\\1501700537.py:9: FutureWarning: Downcasting object dtype arrays on .fillna, .ffill, .bfill is deprecated and will change in a future version. Call result.infer_objects(copy=False) instead. To opt-in to the future behavior, set `pd.set_option('future.no_silent_downcasting', True)`\n",
      "  comp_financial = comp_financial.fillna(0)\n",
      "C:\\Users\\Admin\\AppData\\Local\\Temp\\ipykernel_5908\\1501700537.py:14: FutureWarning: Downcasting object dtype arrays on .fillna, .ffill, .bfill is deprecated and will change in a future version. Call result.infer_objects(copy=False) instead. To opt-in to the future behavior, set `pd.set_option('future.no_silent_downcasting', True)`\n",
      "  comp = comp.fillna(0)\n",
      "C:\\Users\\Admin\\AppData\\Local\\Temp\\ipykernel_5908\\1501700537.py:9: FutureWarning: Downcasting object dtype arrays on .fillna, .ffill, .bfill is deprecated and will change in a future version. Call result.infer_objects(copy=False) instead. To opt-in to the future behavior, set `pd.set_option('future.no_silent_downcasting', True)`\n",
      "  comp_financial = comp_financial.fillna(0)\n",
      "C:\\Users\\Admin\\AppData\\Local\\Temp\\ipykernel_5908\\1501700537.py:14: FutureWarning: Downcasting object dtype arrays on .fillna, .ffill, .bfill is deprecated and will change in a future version. Call result.infer_objects(copy=False) instead. To opt-in to the future behavior, set `pd.set_option('future.no_silent_downcasting', True)`\n",
      "  comp = comp.fillna(0)\n",
      "C:\\Users\\Admin\\AppData\\Local\\Temp\\ipykernel_5908\\1501700537.py:9: FutureWarning: Downcasting object dtype arrays on .fillna, .ffill, .bfill is deprecated and will change in a future version. Call result.infer_objects(copy=False) instead. To opt-in to the future behavior, set `pd.set_option('future.no_silent_downcasting', True)`\n",
      "  comp_financial = comp_financial.fillna(0)\n",
      "C:\\Users\\Admin\\AppData\\Local\\Temp\\ipykernel_5908\\1501700537.py:14: FutureWarning: Downcasting object dtype arrays on .fillna, .ffill, .bfill is deprecated and will change in a future version. Call result.infer_objects(copy=False) instead. To opt-in to the future behavior, set `pd.set_option('future.no_silent_downcasting', True)`\n",
      "  comp = comp.fillna(0)\n",
      "C:\\Users\\Admin\\AppData\\Local\\Temp\\ipykernel_5908\\1501700537.py:9: FutureWarning: Downcasting object dtype arrays on .fillna, .ffill, .bfill is deprecated and will change in a future version. Call result.infer_objects(copy=False) instead. To opt-in to the future behavior, set `pd.set_option('future.no_silent_downcasting', True)`\n",
      "  comp_financial = comp_financial.fillna(0)\n",
      "C:\\Users\\Admin\\AppData\\Local\\Temp\\ipykernel_5908\\1501700537.py:14: FutureWarning: Downcasting object dtype arrays on .fillna, .ffill, .bfill is deprecated and will change in a future version. Call result.infer_objects(copy=False) instead. To opt-in to the future behavior, set `pd.set_option('future.no_silent_downcasting', True)`\n",
      "  comp = comp.fillna(0)\n"
     ]
    },
    {
     "name": "stdout",
     "output_type": "stream",
     "text": [
      "Missing data for NVL in 2017. Skipping this symbol.\n"
     ]
    },
    {
     "name": "stderr",
     "output_type": "stream",
     "text": [
      "C:\\Users\\Admin\\AppData\\Local\\Temp\\ipykernel_5908\\1501700537.py:9: FutureWarning: Downcasting object dtype arrays on .fillna, .ffill, .bfill is deprecated and will change in a future version. Call result.infer_objects(copy=False) instead. To opt-in to the future behavior, set `pd.set_option('future.no_silent_downcasting', True)`\n",
      "  comp_financial = comp_financial.fillna(0)\n",
      "C:\\Users\\Admin\\AppData\\Local\\Temp\\ipykernel_5908\\1501700537.py:14: FutureWarning: Downcasting object dtype arrays on .fillna, .ffill, .bfill is deprecated and will change in a future version. Call result.infer_objects(copy=False) instead. To opt-in to the future behavior, set `pd.set_option('future.no_silent_downcasting', True)`\n",
      "  comp = comp.fillna(0)\n",
      "C:\\Users\\Admin\\AppData\\Local\\Temp\\ipykernel_5908\\1501700537.py:9: FutureWarning: Downcasting object dtype arrays on .fillna, .ffill, .bfill is deprecated and will change in a future version. Call result.infer_objects(copy=False) instead. To opt-in to the future behavior, set `pd.set_option('future.no_silent_downcasting', True)`\n",
      "  comp_financial = comp_financial.fillna(0)\n",
      "C:\\Users\\Admin\\AppData\\Local\\Temp\\ipykernel_5908\\1501700537.py:14: FutureWarning: Downcasting object dtype arrays on .fillna, .ffill, .bfill is deprecated and will change in a future version. Call result.infer_objects(copy=False) instead. To opt-in to the future behavior, set `pd.set_option('future.no_silent_downcasting', True)`\n",
      "  comp = comp.fillna(0)\n",
      "C:\\Users\\Admin\\AppData\\Local\\Temp\\ipykernel_5908\\1501700537.py:9: FutureWarning: Downcasting object dtype arrays on .fillna, .ffill, .bfill is deprecated and will change in a future version. Call result.infer_objects(copy=False) instead. To opt-in to the future behavior, set `pd.set_option('future.no_silent_downcasting', True)`\n",
      "  comp_financial = comp_financial.fillna(0)\n",
      "C:\\Users\\Admin\\AppData\\Local\\Temp\\ipykernel_5908\\1501700537.py:14: FutureWarning: Downcasting object dtype arrays on .fillna, .ffill, .bfill is deprecated and will change in a future version. Call result.infer_objects(copy=False) instead. To opt-in to the future behavior, set `pd.set_option('future.no_silent_downcasting', True)`\n",
      "  comp = comp.fillna(0)\n",
      "C:\\Users\\Admin\\AppData\\Local\\Temp\\ipykernel_5908\\1501700537.py:9: FutureWarning: Downcasting object dtype arrays on .fillna, .ffill, .bfill is deprecated and will change in a future version. Call result.infer_objects(copy=False) instead. To opt-in to the future behavior, set `pd.set_option('future.no_silent_downcasting', True)`\n",
      "  comp_financial = comp_financial.fillna(0)\n",
      "C:\\Users\\Admin\\AppData\\Local\\Temp\\ipykernel_5908\\1501700537.py:14: FutureWarning: Downcasting object dtype arrays on .fillna, .ffill, .bfill is deprecated and will change in a future version. Call result.infer_objects(copy=False) instead. To opt-in to the future behavior, set `pd.set_option('future.no_silent_downcasting', True)`\n",
      "  comp = comp.fillna(0)\n",
      "C:\\Users\\Admin\\AppData\\Local\\Temp\\ipykernel_5908\\1501700537.py:9: FutureWarning: Downcasting object dtype arrays on .fillna, .ffill, .bfill is deprecated and will change in a future version. Call result.infer_objects(copy=False) instead. To opt-in to the future behavior, set `pd.set_option('future.no_silent_downcasting', True)`\n",
      "  comp_financial = comp_financial.fillna(0)\n",
      "C:\\Users\\Admin\\AppData\\Local\\Temp\\ipykernel_5908\\1501700537.py:14: FutureWarning: Downcasting object dtype arrays on .fillna, .ffill, .bfill is deprecated and will change in a future version. Call result.infer_objects(copy=False) instead. To opt-in to the future behavior, set `pd.set_option('future.no_silent_downcasting', True)`\n",
      "  comp = comp.fillna(0)\n",
      "C:\\Users\\Admin\\AppData\\Local\\Temp\\ipykernel_5908\\1501700537.py:9: FutureWarning: Downcasting object dtype arrays on .fillna, .ffill, .bfill is deprecated and will change in a future version. Call result.infer_objects(copy=False) instead. To opt-in to the future behavior, set `pd.set_option('future.no_silent_downcasting', True)`\n",
      "  comp_financial = comp_financial.fillna(0)\n",
      "C:\\Users\\Admin\\AppData\\Local\\Temp\\ipykernel_5908\\1501700537.py:14: FutureWarning: Downcasting object dtype arrays on .fillna, .ffill, .bfill is deprecated and will change in a future version. Call result.infer_objects(copy=False) instead. To opt-in to the future behavior, set `pd.set_option('future.no_silent_downcasting', True)`\n",
      "  comp = comp.fillna(0)\n",
      "C:\\Users\\Admin\\AppData\\Local\\Temp\\ipykernel_5908\\1501700537.py:9: FutureWarning: Downcasting object dtype arrays on .fillna, .ffill, .bfill is deprecated and will change in a future version. Call result.infer_objects(copy=False) instead. To opt-in to the future behavior, set `pd.set_option('future.no_silent_downcasting', True)`\n",
      "  comp_financial = comp_financial.fillna(0)\n",
      "C:\\Users\\Admin\\AppData\\Local\\Temp\\ipykernel_5908\\1501700537.py:14: FutureWarning: Downcasting object dtype arrays on .fillna, .ffill, .bfill is deprecated and will change in a future version. Call result.infer_objects(copy=False) instead. To opt-in to the future behavior, set `pd.set_option('future.no_silent_downcasting', True)`\n",
      "  comp = comp.fillna(0)\n",
      "C:\\Users\\Admin\\AppData\\Local\\Temp\\ipykernel_5908\\1501700537.py:9: FutureWarning: Downcasting object dtype arrays on .fillna, .ffill, .bfill is deprecated and will change in a future version. Call result.infer_objects(copy=False) instead. To opt-in to the future behavior, set `pd.set_option('future.no_silent_downcasting', True)`\n",
      "  comp_financial = comp_financial.fillna(0)\n",
      "C:\\Users\\Admin\\AppData\\Local\\Temp\\ipykernel_5908\\1501700537.py:14: FutureWarning: Downcasting object dtype arrays on .fillna, .ffill, .bfill is deprecated and will change in a future version. Call result.infer_objects(copy=False) instead. To opt-in to the future behavior, set `pd.set_option('future.no_silent_downcasting', True)`\n",
      "  comp = comp.fillna(0)\n",
      "C:\\Users\\Admin\\AppData\\Local\\Temp\\ipykernel_5908\\1501700537.py:9: FutureWarning: Downcasting object dtype arrays on .fillna, .ffill, .bfill is deprecated and will change in a future version. Call result.infer_objects(copy=False) instead. To opt-in to the future behavior, set `pd.set_option('future.no_silent_downcasting', True)`\n",
      "  comp_financial = comp_financial.fillna(0)\n",
      "C:\\Users\\Admin\\AppData\\Local\\Temp\\ipykernel_5908\\1501700537.py:14: FutureWarning: Downcasting object dtype arrays on .fillna, .ffill, .bfill is deprecated and will change in a future version. Call result.infer_objects(copy=False) instead. To opt-in to the future behavior, set `pd.set_option('future.no_silent_downcasting', True)`\n",
      "  comp = comp.fillna(0)\n",
      "C:\\Users\\Admin\\AppData\\Local\\Temp\\ipykernel_5908\\1501700537.py:9: FutureWarning: Downcasting object dtype arrays on .fillna, .ffill, .bfill is deprecated and will change in a future version. Call result.infer_objects(copy=False) instead. To opt-in to the future behavior, set `pd.set_option('future.no_silent_downcasting', True)`\n",
      "  comp_financial = comp_financial.fillna(0)\n",
      "C:\\Users\\Admin\\AppData\\Local\\Temp\\ipykernel_5908\\1501700537.py:14: FutureWarning: Downcasting object dtype arrays on .fillna, .ffill, .bfill is deprecated and will change in a future version. Call result.infer_objects(copy=False) instead. To opt-in to the future behavior, set `pd.set_option('future.no_silent_downcasting', True)`\n",
      "  comp = comp.fillna(0)\n",
      "C:\\Users\\Admin\\AppData\\Local\\Temp\\ipykernel_5908\\1501700537.py:9: FutureWarning: Downcasting object dtype arrays on .fillna, .ffill, .bfill is deprecated and will change in a future version. Call result.infer_objects(copy=False) instead. To opt-in to the future behavior, set `pd.set_option('future.no_silent_downcasting', True)`\n",
      "  comp_financial = comp_financial.fillna(0)\n",
      "C:\\Users\\Admin\\AppData\\Local\\Temp\\ipykernel_5908\\1501700537.py:14: FutureWarning: Downcasting object dtype arrays on .fillna, .ffill, .bfill is deprecated and will change in a future version. Call result.infer_objects(copy=False) instead. To opt-in to the future behavior, set `pd.set_option('future.no_silent_downcasting', True)`\n",
      "  comp = comp.fillna(0)\n",
      "C:\\Users\\Admin\\AppData\\Local\\Temp\\ipykernel_5908\\1501700537.py:9: FutureWarning: Downcasting object dtype arrays on .fillna, .ffill, .bfill is deprecated and will change in a future version. Call result.infer_objects(copy=False) instead. To opt-in to the future behavior, set `pd.set_option('future.no_silent_downcasting', True)`\n",
      "  comp_financial = comp_financial.fillna(0)\n",
      "C:\\Users\\Admin\\AppData\\Local\\Temp\\ipykernel_5908\\1501700537.py:14: FutureWarning: Downcasting object dtype arrays on .fillna, .ffill, .bfill is deprecated and will change in a future version. Call result.infer_objects(copy=False) instead. To opt-in to the future behavior, set `pd.set_option('future.no_silent_downcasting', True)`\n",
      "  comp = comp.fillna(0)\n",
      "C:\\Users\\Admin\\AppData\\Local\\Temp\\ipykernel_5908\\1501700537.py:9: FutureWarning: Downcasting object dtype arrays on .fillna, .ffill, .bfill is deprecated and will change in a future version. Call result.infer_objects(copy=False) instead. To opt-in to the future behavior, set `pd.set_option('future.no_silent_downcasting', True)`\n",
      "  comp_financial = comp_financial.fillna(0)\n",
      "C:\\Users\\Admin\\AppData\\Local\\Temp\\ipykernel_5908\\1501700537.py:14: FutureWarning: Downcasting object dtype arrays on .fillna, .ffill, .bfill is deprecated and will change in a future version. Call result.infer_objects(copy=False) instead. To opt-in to the future behavior, set `pd.set_option('future.no_silent_downcasting', True)`\n",
      "  comp = comp.fillna(0)\n",
      "C:\\Users\\Admin\\AppData\\Local\\Temp\\ipykernel_5908\\1501700537.py:9: FutureWarning: Downcasting object dtype arrays on .fillna, .ffill, .bfill is deprecated and will change in a future version. Call result.infer_objects(copy=False) instead. To opt-in to the future behavior, set `pd.set_option('future.no_silent_downcasting', True)`\n",
      "  comp_financial = comp_financial.fillna(0)\n",
      "C:\\Users\\Admin\\AppData\\Local\\Temp\\ipykernel_5908\\1501700537.py:14: FutureWarning: Downcasting object dtype arrays on .fillna, .ffill, .bfill is deprecated and will change in a future version. Call result.infer_objects(copy=False) instead. To opt-in to the future behavior, set `pd.set_option('future.no_silent_downcasting', True)`\n",
      "  comp = comp.fillna(0)\n"
     ]
    }
   ],
   "source": [
    "for symbol in VN30_2019:\n",
    "    try:\n",
    "        company_ratio = financial_ratio(symbol, 'yearly', True)\n",
    "        company_ratio = company_ratio.fillna(0)\n",
    "        company_ratio_2018 = company_ratio[2018]\n",
    "        company_ratio_2017 = company_ratio[2017]\n",
    "\n",
    "        comp_financial = financial_flow(symbol, report_type='incomestatement', report_range='yearly', get_all=True)\n",
    "        comp_financial = comp_financial.fillna(0)\n",
    "        comp_financial_2018 = comp_financial.loc['2018']\n",
    "        comp_financial_2017 = comp_financial.loc['2017']\n",
    "\n",
    "        comp = financial_flow(symbol, report_type='balancesheet', report_range='yearly', get_all=True)\n",
    "        comp = comp.fillna(0)\n",
    "        comp_2018 = comp.loc['2018']\n",
    "        comp_2017 = comp.loc['2017']\n",
    "\n",
    "        current_assets = comp_2018['cash'] + comp_2018['shortInvest'] + comp_2018['shortReceivable'] + comp_2018['inventory'] + comp_2018['otherAsset']\n",
    "        current_liabilities = comp_2018['shortDebt'] + comp_2018['payable'] + comp_2018['otherDebt'] + comp_2018['payableInterest'] + comp_2018['oweOtherBank'] + comp_2018['oweCentralBank']\n",
    "        working_cap_2018 = current_assets - current_liabilities\n",
    "        \n",
    "        ca_2017 = comp_2017['cash'] + comp_2017['shortInvest'] + comp_2017['shortReceivable'] + comp_2017['inventory'] + comp_2017['otherAsset']\n",
    "        cl_2017 = comp_2018['shortDebt'] + comp_2017['payable'] + comp_2017['otherDebt'] + comp_2017['payableInterest'] + comp_2017['oweOtherBank'] + comp_2017['oweCentralBank']\n",
    "        work_cap_2017 = ca_2017 - cl_2017\n",
    "        increase_in_working_cap = working_cap_2018 - work_cap_2017\n",
    "        if comp_financial_2018['ebitda'] == 0:\n",
    "            est_depreciation = 0\n",
    "        else:\n",
    "            est_depreciation = comp_financial_2018['ebitda'] - comp_financial_2018['operationProfit'] \n",
    "        est_OCF = comp_financial_2018['postTaxProfit'] + est_depreciation - increase_in_working_cap\n",
    "        \n",
    "        current_rat2017 = ca_2017/cl_2017\n",
    "        current_rat2018 = current_assets/current_liabilities\n",
    "\n",
    "        ROA = company_ratio_2018['roa']\n",
    "        EPS2017 = company_ratio_2017['earningPerShare']\n",
    "        EPS2018 = company_ratio_2018['earningPerShare']\n",
    "        net_income2018 = comp_financial_2018['postTaxProfit']\n",
    "        net_income2017 = comp_financial_2017['postTaxProfit']\n",
    "        estimate_OCF = est_OCF\n",
    "        current_longdebt = comp_2018['longDebt']\n",
    "        previous_longdebt = comp_2017['longDebt']\n",
    "        gross_margin2017 = comp_financial_2017['grossProfit'] / comp_financial_2017['revenue']\n",
    "        gross_margin2018 = comp_financial_2018['grossProfit'] / comp_financial_2018['revenue']\n",
    "        asset_turn_rate2017 = comp_financial_2017['revenue']/((comp_2017['asset']+comp_2017['asset'])/2)\n",
    "        asset_turn_rate2018 = comp_financial_2018['revenue']/((comp_2018['asset']+comp_2018['asset'])/2)\n",
    "        \n",
    "        expected_eps = EPS2017 * (net_income2018/net_income2017)\n",
    "        eps_change = abs(EPS2018 - expected_eps) / expected_eps\n",
    "        \n",
    "        cur_comp_score = piotroski()\n",
    "\n",
    "        piotroski_score[symbol] = cur_comp_score\n",
    "\n",
    "    except KeyError as e:\n",
    "        print(f\"Missing data for {symbol} in {e}. Skipping this symbol.\")\n",
    "        continue\n"
   ]
  },
  {
   "cell_type": "code",
   "execution_count": 18,
   "metadata": {},
   "outputs": [
    {
     "data": {
      "text/plain": [
       "{'VNM': 7,\n",
       " 'TCB': 7,\n",
       " 'VIC': 5,\n",
       " 'MSN': 6,\n",
       " 'HPG': 5,\n",
       " 'VPB': 6,\n",
       " 'VJC': 7,\n",
       " 'MWG': 7,\n",
       " 'MBB': 7,\n",
       " 'SAB': 6,\n",
       " 'VCB': 5,\n",
       " 'HDB': 6,\n",
       " 'FPT': 7,\n",
       " 'STB': 6,\n",
       " 'EIB': 6,\n",
       " 'VRE': 7,\n",
       " 'PNJ': 6,\n",
       " 'GAS': 7,\n",
       " 'SSI': 6,\n",
       " 'CTG': 6,\n",
       " 'GMD': 4,\n",
       " 'CTD': 5,\n",
       " 'ROS': 4,\n",
       " 'REE': 6,\n",
       " 'SBT': 7,\n",
       " 'CII': 7,\n",
       " 'DPM': 6,\n",
       " 'DHG': 6}"
      ]
     },
     "execution_count": 18,
     "metadata": {},
     "output_type": "execute_result"
    }
   ],
   "source": [
    "piotroski_score"
   ]
  },
  {
   "cell_type": "code",
   "execution_count": 19,
   "metadata": {},
   "outputs": [],
   "source": [
    "def calculate_return(df):\n",
    "    if df.empty:\n",
    "        return 0\n",
    "    first_price = df['close'].iloc[0]\n",
    "    final_price = df['close'].iloc[-1] \n",
    "    stock_return = ((final_price - first_price)/first_price) * 100\n",
    "    return stock_return"
   ]
  },
  {
   "cell_type": "code",
   "execution_count": 20,
   "metadata": {},
   "outputs": [
    {
     "name": "stdout",
     "output_type": "stream",
     "text": [
      "Error in API response {\"status\":400,\"code\":\"BAD_REQUEST\",\"message\":\"invalid symbol\"}\n",
      " \n",
      "\n",
      "Error occured for ROS: cannot access local variable 'df' where it is not associated with a value\n"
     ]
    }
   ],
   "source": [
    "stock_return = {}\n",
    "\n",
    "for stock in VN30_2019:\n",
    "    try:\n",
    "        stock_data = stock_historical_data(symbol=stock, \n",
    "                                start_date='2019-01-01', \n",
    "                                end_date='2024-01-03', \n",
    "                                resolution='1D', \n",
    "                                type='stock')\n",
    "        if stock_data.empty:\n",
    "            stock_return[stock] = 0\n",
    "        else:\n",
    "            return_rate = calculate_return(stock_data)\n",
    "            stock_return[stock] = return_rate\n",
    "    \n",
    "    except Exception as e:\n",
    "        print(f'Error occured for {stock}: {e}')\n"
   ]
  },
  {
   "cell_type": "code",
   "execution_count": 21,
   "metadata": {},
   "outputs": [
    {
     "data": {
      "text/plain": [
       "{'VNM': np.float64(-17.43030303030303),\n",
       " 'TCB': np.float64(27.294685990338163),\n",
       " 'VIC': np.float64(-50.5233431203353),\n",
       " 'MSN': np.float64(8.248232521602514),\n",
       " 'HPG': np.float64(157.33197556008147),\n",
       " 'VPB': np.float64(179.5069337442219),\n",
       " 'VHM': np.float64(-18.954248366013072),\n",
       " 'VJC': np.float64(-7.139962580077771),\n",
       " 'MWG': np.float64(59.39010784678319),\n",
       " 'MBB': np.float64(140.25641025641025),\n",
       " 'SAB': np.float64(-43.94803252640433),\n",
       " 'VCB': np.float64(144.5023148148148),\n",
       " 'HDB': np.float64(121.31336405529953),\n",
       " 'FPT': np.float64(441.1190631099545),\n",
       " 'STB': np.float64(145.68965517241378),\n",
       " 'NVL': np.float64(-53.220282349010105),\n",
       " 'EIB': np.float64(90.09100101112234),\n",
       " 'VRE': np.float64(-16.8841382761949),\n",
       " 'PNJ': np.float64(83.92857142857143),\n",
       " 'GAS': np.float64(26.28780325689598),\n",
       " 'SSI': np.float64(173.44398340248964),\n",
       " 'CTG': np.float64(117.49408983451536),\n",
       " 'GMD': np.float64(227.46380196170014),\n",
       " 'CTD': np.float64(-35.63593509201341),\n",
       " 'REE': np.float64(181.8181818181818),\n",
       " 'SBT': np.float64(-14.359304571796521),\n",
       " 'CII': np.float64(-27.292481529769663),\n",
       " 'DPM': np.float64(150.9238728750924),\n",
       " 'DHG': np.float64(71.5728476821192)}"
      ]
     },
     "execution_count": 21,
     "metadata": {},
     "output_type": "execute_result"
    }
   ],
   "source": [
    "stock_return"
   ]
  },
  {
   "cell_type": "code",
   "execution_count": 22,
   "metadata": {},
   "outputs": [],
   "source": [
    "import matplotlib.pyplot as plt"
   ]
  },
  {
   "cell_type": "code",
   "execution_count": 23,
   "metadata": {},
   "outputs": [
    {
     "data": {
      "image/png": "[encoded data removed]",
      "text/plain": [
       "<Figure size 1000x600 with 1 Axes>"
      ]
     },
     "metadata": {},
     "output_type": "display_data"
    }
   ],
   "source": [
    "companies = list(stock_return.keys())\n",
    "returns = list(stock_return.values())\n",
    "\n",
    "plt.figure(figsize=(10, 6))\n",
    "plt.bar(companies, returns, color='blue')\n",
    "\n",
    "plt.xlabel('Company Name')\n",
    "plt.ylabel('Return')\n",
    "plt.title('Company Returns')\n",
    "plt.xticks(rotation=45, ha='right')\n",
    "\n",
    "plt.tight_layout()\n",
    "plt.show()"
   ]
  }
 ],
 "metadata": {
  "kernelspec": {
   "display_name": "venv",
   "language": "python",
   "name": "python3"
  },
  "language_info": {
   "codemirror_mode": {
    "name": "ipython",
    "version": 3
   },
   "file_extension": ".py",
   "mimetype": "text/x-python",
   "name": "python",
   "nbconvert_exporter": "python",
   "pygments_lexer": "ipython3",
   "version": "3.12.5"
  }
 },
 "nbformat": 4,
 "nbformat_minor": 2
}
